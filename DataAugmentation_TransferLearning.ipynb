{
  "nbformat": 4,
  "nbformat_minor": 0,
  "metadata": {
    "colab": {
      "name": "Deep Learning Assignment 2.ipynb",
      "provenance": [],
      "collapsed_sections": [],
      "machine_shape": "hm",
      "mount_file_id": "1CjC9GhUNwXB3YgONiET5flGo1_qSWmnC",
      "authorship_tag": "ABX9TyM09Cs+Wd3zUVKorbN/iGlt",
      "include_colab_link": true
    },
    "kernelspec": {
      "name": "python3",
      "display_name": "Python 3"
    },
    "accelerator": "GPU"
  },
  "cells": [
    {
      "cell_type": "markdown",
      "metadata": {
        "id": "view-in-github",
        "colab_type": "text"
      },
      "source": [
        "<a href=\"https://colab.research.google.com/github/AakashAhuja30/Deep-Learning/blob/master/DataAugmentation_TransferLearning.ipynb\" target=\"_parent\"><img src=\"https://colab.research.google.com/assets/colab-badge.svg\" alt=\"Open In Colab\"/></a>"
      ]
    },
    {
      "cell_type": "markdown",
      "metadata": {
        "id": "ZHAza1IfpWef"
      },
      "source": [
        "**Problem 3**"
      ]
    },
    {
      "cell_type": "code",
      "metadata": {
        "id": "Chh3TY5hGp59"
      },
      "source": [
        "#Importing the necessary libraries\n",
        "import tensorflow as tf\n",
        "from tensorflow.keras import datasets, layers, models\n",
        "import matplotlib.pyplot as plt\n",
        "from keras.utils import to_categorical\n",
        "from tensorflow.keras import Model\n",
        "import numpy as np\n",
        "import librosa\n",
        "from tensorflow.keras.models import Sequential\n",
        "from tensorflow.keras.layers import Dense\n",
        "import librosa.display\n",
        "import matplotlib.pyplot as plt\n",
        "import IPython.display as ipd\n",
        "\n",
        "from keras.layers import Activation\n",
        "from keras.layers import Dropout, Flatten\n",
        "from keras.layers import  Conv1D,Conv2D, MaxPooling2D,MaxPooling1D\n",
        "from keras.optimizers import SGD"
      ],
      "execution_count": null,
      "outputs": []
    },
    {
      "cell_type": "code",
      "metadata": {
        "id": "ZYz6DLFcHAZ5"
      },
      "source": [
        "#Importing the cifar-10 dataset\n",
        "(train_images, train_labels), (test_images, test_labels) = datasets.cifar10.load_data()"
      ],
      "execution_count": null,
      "outputs": []
    },
    {
      "cell_type": "code",
      "metadata": {
        "id": "a2hFzA2JJSLZ",
        "outputId": "a934f8d6-789d-4537-81f7-3b6086a20122",
        "colab": {
          "base_uri": "https://localhost:8080/",
          "height": 85
        }
      },
      "source": [
        "print(train_images.shape)\n",
        "print(train_labels.shape)\n",
        "print(test_images.shape)\n",
        "print(test_labels.shape)"
      ],
      "execution_count": null,
      "outputs": [
        {
          "output_type": "stream",
          "text": [
            "(50000, 32, 32, 3)\n",
            "(50000, 1)\n",
            "(10000, 32, 32, 3)\n",
            "(10000, 1)\n"
          ],
          "name": "stdout"
        }
      ]
    },
    {
      "cell_type": "code",
      "metadata": {
        "id": "dtntKQZ2JbIP"
      },
      "source": [
        "# one hot encode target values for both train and test labels\n",
        "train_labels = to_categorical(train_labels,10)\n",
        "test_labels = to_categorical(test_labels,10)"
      ],
      "execution_count": null,
      "outputs": []
    },
    {
      "cell_type": "code",
      "metadata": {
        "id": "cLzKsyk3JdMP"
      },
      "source": [
        "# Normalize pixel values to be between -1 and 1 for both train and test dataset\n",
        "train_images, test_images = train_images / 255.0, test_images / 255.0\n",
        "train_images, test_images = (train_images - 0.5)/0.5, (test_images - 0.5)/0.5"
      ],
      "execution_count": null,
      "outputs": []
    },
    {
      "cell_type": "code",
      "metadata": {
        "id": "xhbDqqYrPZ7s"
      },
      "source": [
        "#Separating out a validation dataset of 5000 examples from this normalised train dataset of 50000 examples\n",
        "from sklearn.model_selection import train_test_split\n",
        "train_images, val_images, train_labels, val_labels = train_test_split(train_images, train_labels, test_size=0.1, random_state=42,shuffle=True)"
      ],
      "execution_count": null,
      "outputs": []
    },
    {
      "cell_type": "code",
      "metadata": {
        "id": "dhxM3d93Pi5C",
        "outputId": "a03860b4-3a16-42e3-bc1a-70726292147b",
        "colab": {
          "base_uri": "https://localhost:8080/",
          "height": 391
        }
      },
      "source": [
        "#Creating the model\n",
        "model_ini = 'tf.keras.initializers.HeNormal()'\n",
        "model = Sequential()\n",
        "model.add(Conv2D(filters=10, kernel_size=(5,5), activation='relu', input_shape=(32,32,3), strides=1))\n",
        "model.add(MaxPooling2D(pool_size=(2,2), strides=2))\n",
        "model.add(Conv2D(filters=10, kernel_size=(5,5), activation='relu', strides=1))\n",
        "model.add(MaxPooling2D(pool_size=(2,2), strides=2))\n",
        "model.add(Flatten())\n",
        "model.add(Dense(20, activation='relu', name='layer2', kernel_initializer = eval(model_ini)))\n",
        "model.add(Dense(10, activation='softmax', name='layer3', kernel_initializer = eval(model_ini)))\n",
        "\n",
        "model.summary()"
      ],
      "execution_count": null,
      "outputs": [
        {
          "output_type": "stream",
          "text": [
            "Model: \"sequential\"\n",
            "_________________________________________________________________\n",
            "Layer (type)                 Output Shape              Param #   \n",
            "=================================================================\n",
            "conv2d (Conv2D)              (None, 28, 28, 10)        760       \n",
            "_________________________________________________________________\n",
            "max_pooling2d (MaxPooling2D) (None, 14, 14, 10)        0         \n",
            "_________________________________________________________________\n",
            "conv2d_1 (Conv2D)            (None, 10, 10, 10)        2510      \n",
            "_________________________________________________________________\n",
            "max_pooling2d_1 (MaxPooling2 (None, 5, 5, 10)          0         \n",
            "_________________________________________________________________\n",
            "flatten (Flatten)            (None, 250)               0         \n",
            "_________________________________________________________________\n",
            "layer2 (Dense)               (None, 20)                5020      \n",
            "_________________________________________________________________\n",
            "layer3 (Dense)               (None, 10)                210       \n",
            "=================================================================\n",
            "Total params: 8,500\n",
            "Trainable params: 8,500\n",
            "Non-trainable params: 0\n",
            "_________________________________________________________________\n"
          ],
          "name": "stdout"
        }
      ]
    },
    {
      "cell_type": "code",
      "metadata": {
        "id": "KYmcfJFZPnAk"
      },
      "source": [
        "model.compile(optimizer='adam',\n",
        "              loss='categorical_crossentropy',\n",
        "              metrics=['accuracy'])"
      ],
      "execution_count": null,
      "outputs": []
    },
    {
      "cell_type": "code",
      "metadata": {
        "id": "_5eprOmePpZ2",
        "outputId": "2ec02d41-294a-4f32-babf-865813d1fac0",
        "colab": {
          "base_uri": "https://localhost:8080/",
          "height": 1000
        }
      },
      "source": [
        "#Fitting this model\n",
        "history = model.fit(train_images, train_labels, epochs=100,batch_size=256, \n",
        "                    validation_data=(val_images, val_labels))"
      ],
      "execution_count": null,
      "outputs": [
        {
          "output_type": "stream",
          "text": [
            "Epoch 1/100\n",
            "176/176 [==============================] - 1s 6ms/step - loss: 1.8587 - accuracy: 0.3251 - val_loss: 1.6426 - val_accuracy: 0.4096\n",
            "Epoch 2/100\n",
            "176/176 [==============================] - 1s 4ms/step - loss: 1.5567 - accuracy: 0.4394 - val_loss: 1.4969 - val_accuracy: 0.4604\n",
            "Epoch 3/100\n",
            "176/176 [==============================] - 1s 4ms/step - loss: 1.4462 - accuracy: 0.4805 - val_loss: 1.4189 - val_accuracy: 0.4928\n",
            "Epoch 4/100\n",
            "176/176 [==============================] - 1s 4ms/step - loss: 1.3780 - accuracy: 0.5094 - val_loss: 1.3912 - val_accuracy: 0.4998\n",
            "Epoch 5/100\n",
            "176/176 [==============================] - 1s 4ms/step - loss: 1.3299 - accuracy: 0.5290 - val_loss: 1.3346 - val_accuracy: 0.5200\n",
            "Epoch 6/100\n",
            "176/176 [==============================] - 1s 4ms/step - loss: 1.2888 - accuracy: 0.5457 - val_loss: 1.2846 - val_accuracy: 0.5376\n",
            "Epoch 7/100\n",
            "176/176 [==============================] - 1s 4ms/step - loss: 1.2553 - accuracy: 0.5582 - val_loss: 1.2523 - val_accuracy: 0.5534\n",
            "Epoch 8/100\n",
            "176/176 [==============================] - 1s 4ms/step - loss: 1.2285 - accuracy: 0.5690 - val_loss: 1.2346 - val_accuracy: 0.5652\n",
            "Epoch 9/100\n",
            "176/176 [==============================] - 1s 4ms/step - loss: 1.2120 - accuracy: 0.5727 - val_loss: 1.1992 - val_accuracy: 0.5712\n",
            "Epoch 10/100\n",
            "176/176 [==============================] - 1s 4ms/step - loss: 1.1862 - accuracy: 0.5836 - val_loss: 1.1892 - val_accuracy: 0.5834\n",
            "Epoch 11/100\n",
            "176/176 [==============================] - 1s 4ms/step - loss: 1.1700 - accuracy: 0.5913 - val_loss: 1.1674 - val_accuracy: 0.5886\n",
            "Epoch 12/100\n",
            "176/176 [==============================] - 1s 4ms/step - loss: 1.1468 - accuracy: 0.6003 - val_loss: 1.1848 - val_accuracy: 0.5836\n",
            "Epoch 13/100\n",
            "176/176 [==============================] - 1s 4ms/step - loss: 1.1342 - accuracy: 0.6035 - val_loss: 1.1475 - val_accuracy: 0.5952\n",
            "Epoch 14/100\n",
            "176/176 [==============================] - 1s 4ms/step - loss: 1.1247 - accuracy: 0.6068 - val_loss: 1.1380 - val_accuracy: 0.5966\n",
            "Epoch 15/100\n",
            "176/176 [==============================] - 1s 4ms/step - loss: 1.1138 - accuracy: 0.6115 - val_loss: 1.1432 - val_accuracy: 0.5896\n",
            "Epoch 16/100\n",
            "176/176 [==============================] - 1s 4ms/step - loss: 1.1006 - accuracy: 0.6156 - val_loss: 1.1548 - val_accuracy: 0.5968\n",
            "Epoch 17/100\n",
            "176/176 [==============================] - 1s 4ms/step - loss: 1.0926 - accuracy: 0.6178 - val_loss: 1.1223 - val_accuracy: 0.6064\n",
            "Epoch 18/100\n",
            "176/176 [==============================] - 1s 4ms/step - loss: 1.0894 - accuracy: 0.6191 - val_loss: 1.1082 - val_accuracy: 0.6082\n",
            "Epoch 19/100\n",
            "176/176 [==============================] - 1s 4ms/step - loss: 1.0758 - accuracy: 0.6242 - val_loss: 1.1248 - val_accuracy: 0.6004\n",
            "Epoch 20/100\n",
            "176/176 [==============================] - 1s 4ms/step - loss: 1.0675 - accuracy: 0.6274 - val_loss: 1.1063 - val_accuracy: 0.6118\n",
            "Epoch 21/100\n",
            "176/176 [==============================] - 1s 4ms/step - loss: 1.0627 - accuracy: 0.6288 - val_loss: 1.0992 - val_accuracy: 0.6170\n",
            "Epoch 22/100\n",
            "176/176 [==============================] - 1s 4ms/step - loss: 1.0505 - accuracy: 0.6332 - val_loss: 1.0889 - val_accuracy: 0.6200\n",
            "Epoch 23/100\n",
            "176/176 [==============================] - 1s 4ms/step - loss: 1.0440 - accuracy: 0.6365 - val_loss: 1.0875 - val_accuracy: 0.6200\n",
            "Epoch 24/100\n",
            "176/176 [==============================] - 1s 4ms/step - loss: 1.0391 - accuracy: 0.6355 - val_loss: 1.0847 - val_accuracy: 0.6210\n",
            "Epoch 25/100\n",
            "176/176 [==============================] - 1s 4ms/step - loss: 1.0370 - accuracy: 0.6382 - val_loss: 1.0886 - val_accuracy: 0.6230\n",
            "Epoch 26/100\n",
            "176/176 [==============================] - 1s 4ms/step - loss: 1.0328 - accuracy: 0.6380 - val_loss: 1.0967 - val_accuracy: 0.6148\n",
            "Epoch 27/100\n",
            "176/176 [==============================] - 1s 5ms/step - loss: 1.0293 - accuracy: 0.6423 - val_loss: 1.0705 - val_accuracy: 0.6266\n",
            "Epoch 28/100\n",
            "176/176 [==============================] - 1s 4ms/step - loss: 1.0196 - accuracy: 0.6440 - val_loss: 1.0832 - val_accuracy: 0.6208\n",
            "Epoch 29/100\n",
            "176/176 [==============================] - 1s 4ms/step - loss: 1.0091 - accuracy: 0.6481 - val_loss: 1.0674 - val_accuracy: 0.6256\n",
            "Epoch 30/100\n",
            "176/176 [==============================] - 1s 4ms/step - loss: 1.0090 - accuracy: 0.6477 - val_loss: 1.0682 - val_accuracy: 0.6292\n",
            "Epoch 31/100\n",
            "176/176 [==============================] - 1s 5ms/step - loss: 1.0042 - accuracy: 0.6501 - val_loss: 1.0723 - val_accuracy: 0.6282\n",
            "Epoch 32/100\n",
            "176/176 [==============================] - 1s 4ms/step - loss: 0.9981 - accuracy: 0.6511 - val_loss: 1.0646 - val_accuracy: 0.6324\n",
            "Epoch 33/100\n",
            "176/176 [==============================] - 1s 4ms/step - loss: 0.9942 - accuracy: 0.6538 - val_loss: 1.0718 - val_accuracy: 0.6262\n",
            "Epoch 34/100\n",
            "176/176 [==============================] - 1s 4ms/step - loss: 0.9928 - accuracy: 0.6548 - val_loss: 1.0509 - val_accuracy: 0.6364\n",
            "Epoch 35/100\n",
            "176/176 [==============================] - 1s 5ms/step - loss: 0.9891 - accuracy: 0.6558 - val_loss: 1.0575 - val_accuracy: 0.6358\n",
            "Epoch 36/100\n",
            "176/176 [==============================] - 1s 4ms/step - loss: 0.9797 - accuracy: 0.6588 - val_loss: 1.0529 - val_accuracy: 0.6324\n",
            "Epoch 37/100\n",
            "176/176 [==============================] - 1s 5ms/step - loss: 0.9791 - accuracy: 0.6587 - val_loss: 1.0461 - val_accuracy: 0.6380\n",
            "Epoch 38/100\n",
            "176/176 [==============================] - 1s 4ms/step - loss: 0.9761 - accuracy: 0.6601 - val_loss: 1.0631 - val_accuracy: 0.6352\n",
            "Epoch 39/100\n",
            "176/176 [==============================] - 1s 4ms/step - loss: 0.9779 - accuracy: 0.6590 - val_loss: 1.0474 - val_accuracy: 0.6354\n",
            "Epoch 40/100\n",
            "176/176 [==============================] - 1s 4ms/step - loss: 0.9700 - accuracy: 0.6600 - val_loss: 1.0434 - val_accuracy: 0.6392\n",
            "Epoch 41/100\n",
            "176/176 [==============================] - 1s 4ms/step - loss: 0.9688 - accuracy: 0.6622 - val_loss: 1.0427 - val_accuracy: 0.6378\n",
            "Epoch 42/100\n",
            "176/176 [==============================] - 1s 4ms/step - loss: 0.9650 - accuracy: 0.6631 - val_loss: 1.0481 - val_accuracy: 0.6358\n",
            "Epoch 43/100\n",
            "176/176 [==============================] - 1s 5ms/step - loss: 0.9590 - accuracy: 0.6653 - val_loss: 1.0337 - val_accuracy: 0.6420\n",
            "Epoch 44/100\n",
            "176/176 [==============================] - 1s 5ms/step - loss: 0.9570 - accuracy: 0.6667 - val_loss: 1.0424 - val_accuracy: 0.6356\n",
            "Epoch 45/100\n",
            "176/176 [==============================] - 1s 4ms/step - loss: 0.9543 - accuracy: 0.6670 - val_loss: 1.0489 - val_accuracy: 0.6382\n",
            "Epoch 46/100\n",
            "176/176 [==============================] - 1s 5ms/step - loss: 0.9498 - accuracy: 0.6678 - val_loss: 1.0472 - val_accuracy: 0.6390\n",
            "Epoch 47/100\n",
            "176/176 [==============================] - 1s 4ms/step - loss: 0.9514 - accuracy: 0.6688 - val_loss: 1.0407 - val_accuracy: 0.6388\n",
            "Epoch 48/100\n",
            "176/176 [==============================] - 1s 4ms/step - loss: 0.9431 - accuracy: 0.6713 - val_loss: 1.0361 - val_accuracy: 0.6402\n",
            "Epoch 49/100\n",
            "176/176 [==============================] - 1s 4ms/step - loss: 0.9428 - accuracy: 0.6719 - val_loss: 1.0267 - val_accuracy: 0.6434\n",
            "Epoch 50/100\n",
            "176/176 [==============================] - 1s 5ms/step - loss: 0.9392 - accuracy: 0.6712 - val_loss: 1.0134 - val_accuracy: 0.6448\n",
            "Epoch 51/100\n",
            "176/176 [==============================] - 1s 5ms/step - loss: 0.9380 - accuracy: 0.6728 - val_loss: 1.0406 - val_accuracy: 0.6386\n",
            "Epoch 52/100\n",
            "176/176 [==============================] - 1s 4ms/step - loss: 0.9341 - accuracy: 0.6753 - val_loss: 1.0238 - val_accuracy: 0.6400\n",
            "Epoch 53/100\n",
            "176/176 [==============================] - 1s 4ms/step - loss: 0.9314 - accuracy: 0.6732 - val_loss: 1.0341 - val_accuracy: 0.6414\n",
            "Epoch 54/100\n",
            "176/176 [==============================] - 1s 4ms/step - loss: 0.9337 - accuracy: 0.6737 - val_loss: 1.0210 - val_accuracy: 0.6444\n",
            "Epoch 55/100\n",
            "176/176 [==============================] - 1s 4ms/step - loss: 0.9284 - accuracy: 0.6764 - val_loss: 1.0291 - val_accuracy: 0.6472\n",
            "Epoch 56/100\n",
            "176/176 [==============================] - 1s 4ms/step - loss: 0.9270 - accuracy: 0.6766 - val_loss: 1.0207 - val_accuracy: 0.6434\n",
            "Epoch 57/100\n",
            "176/176 [==============================] - 1s 5ms/step - loss: 0.9258 - accuracy: 0.6771 - val_loss: 1.0163 - val_accuracy: 0.6470\n",
            "Epoch 58/100\n",
            "176/176 [==============================] - 1s 4ms/step - loss: 0.9223 - accuracy: 0.6770 - val_loss: 1.0225 - val_accuracy: 0.6518\n",
            "Epoch 59/100\n",
            "176/176 [==============================] - 1s 4ms/step - loss: 0.9219 - accuracy: 0.6797 - val_loss: 1.0294 - val_accuracy: 0.6416\n",
            "Epoch 60/100\n",
            "176/176 [==============================] - 1s 5ms/step - loss: 0.9187 - accuracy: 0.6787 - val_loss: 1.0119 - val_accuracy: 0.6508\n",
            "Epoch 61/100\n",
            "176/176 [==============================] - 1s 5ms/step - loss: 0.9150 - accuracy: 0.6800 - val_loss: 1.0189 - val_accuracy: 0.6478\n",
            "Epoch 62/100\n",
            "176/176 [==============================] - 1s 4ms/step - loss: 0.9178 - accuracy: 0.6803 - val_loss: 1.0349 - val_accuracy: 0.6386\n",
            "Epoch 63/100\n",
            "176/176 [==============================] - 1s 4ms/step - loss: 0.9153 - accuracy: 0.6809 - val_loss: 1.0458 - val_accuracy: 0.6384\n",
            "Epoch 64/100\n",
            "176/176 [==============================] - 1s 4ms/step - loss: 0.9097 - accuracy: 0.6810 - val_loss: 1.0238 - val_accuracy: 0.6448\n",
            "Epoch 65/100\n",
            "176/176 [==============================] - 1s 4ms/step - loss: 0.9138 - accuracy: 0.6812 - val_loss: 1.0175 - val_accuracy: 0.6482\n",
            "Epoch 66/100\n",
            "176/176 [==============================] - 1s 5ms/step - loss: 0.9062 - accuracy: 0.6846 - val_loss: 1.0167 - val_accuracy: 0.6470\n",
            "Epoch 67/100\n",
            "176/176 [==============================] - 1s 4ms/step - loss: 0.9036 - accuracy: 0.6845 - val_loss: 1.0422 - val_accuracy: 0.6390\n",
            "Epoch 68/100\n",
            "176/176 [==============================] - 1s 4ms/step - loss: 0.9013 - accuracy: 0.6855 - val_loss: 1.0096 - val_accuracy: 0.6464\n",
            "Epoch 69/100\n",
            "176/176 [==============================] - 1s 4ms/step - loss: 0.9046 - accuracy: 0.6844 - val_loss: 1.0199 - val_accuracy: 0.6462\n",
            "Epoch 70/100\n",
            "176/176 [==============================] - 1s 4ms/step - loss: 0.8974 - accuracy: 0.6874 - val_loss: 1.0164 - val_accuracy: 0.6466\n",
            "Epoch 71/100\n",
            "176/176 [==============================] - 1s 4ms/step - loss: 0.8973 - accuracy: 0.6849 - val_loss: 1.0231 - val_accuracy: 0.6400\n",
            "Epoch 72/100\n",
            "176/176 [==============================] - 1s 5ms/step - loss: 0.8987 - accuracy: 0.6852 - val_loss: 1.0292 - val_accuracy: 0.6396\n",
            "Epoch 73/100\n",
            "176/176 [==============================] - 1s 5ms/step - loss: 0.8987 - accuracy: 0.6857 - val_loss: 1.0095 - val_accuracy: 0.6506\n",
            "Epoch 74/100\n",
            "176/176 [==============================] - 1s 5ms/step - loss: 0.8922 - accuracy: 0.6884 - val_loss: 1.0240 - val_accuracy: 0.6466\n",
            "Epoch 75/100\n",
            "176/176 [==============================] - 1s 4ms/step - loss: 0.8903 - accuracy: 0.6869 - val_loss: 1.0109 - val_accuracy: 0.6502\n",
            "Epoch 76/100\n",
            "176/176 [==============================] - 1s 4ms/step - loss: 0.8928 - accuracy: 0.6881 - val_loss: 1.0139 - val_accuracy: 0.6476\n",
            "Epoch 77/100\n",
            "176/176 [==============================] - 1s 4ms/step - loss: 0.8905 - accuracy: 0.6868 - val_loss: 1.0078 - val_accuracy: 0.6536\n",
            "Epoch 78/100\n",
            "176/176 [==============================] - 1s 4ms/step - loss: 0.8857 - accuracy: 0.6900 - val_loss: 1.0132 - val_accuracy: 0.6474\n",
            "Epoch 79/100\n",
            "176/176 [==============================] - 1s 4ms/step - loss: 0.8863 - accuracy: 0.6905 - val_loss: 1.0083 - val_accuracy: 0.6518\n",
            "Epoch 80/100\n",
            "176/176 [==============================] - 1s 4ms/step - loss: 0.8858 - accuracy: 0.6889 - val_loss: 1.0139 - val_accuracy: 0.6486\n",
            "Epoch 81/100\n",
            "176/176 [==============================] - 1s 5ms/step - loss: 0.8801 - accuracy: 0.6928 - val_loss: 1.0130 - val_accuracy: 0.6548\n",
            "Epoch 82/100\n",
            "176/176 [==============================] - 1s 5ms/step - loss: 0.8804 - accuracy: 0.6901 - val_loss: 1.0079 - val_accuracy: 0.6506\n",
            "Epoch 83/100\n",
            "176/176 [==============================] - 1s 4ms/step - loss: 0.8819 - accuracy: 0.6917 - val_loss: 1.0203 - val_accuracy: 0.6408\n",
            "Epoch 84/100\n",
            "176/176 [==============================] - 1s 5ms/step - loss: 0.8839 - accuracy: 0.6913 - val_loss: 1.0204 - val_accuracy: 0.6502\n",
            "Epoch 85/100\n",
            "176/176 [==============================] - 1s 4ms/step - loss: 0.8773 - accuracy: 0.6921 - val_loss: 1.0195 - val_accuracy: 0.6434\n",
            "Epoch 86/100\n",
            "176/176 [==============================] - 1s 4ms/step - loss: 0.8820 - accuracy: 0.6916 - val_loss: 1.0065 - val_accuracy: 0.6508\n",
            "Epoch 87/100\n",
            "176/176 [==============================] - 1s 5ms/step - loss: 0.8749 - accuracy: 0.6939 - val_loss: 1.0005 - val_accuracy: 0.6538\n",
            "Epoch 88/100\n",
            "176/176 [==============================] - 1s 5ms/step - loss: 0.8749 - accuracy: 0.6944 - val_loss: 1.0046 - val_accuracy: 0.6518\n",
            "Epoch 89/100\n",
            "176/176 [==============================] - 1s 4ms/step - loss: 0.8723 - accuracy: 0.6959 - val_loss: 1.0274 - val_accuracy: 0.6406\n",
            "Epoch 90/100\n",
            "176/176 [==============================] - 1s 5ms/step - loss: 0.8753 - accuracy: 0.6943 - val_loss: 1.0037 - val_accuracy: 0.6516\n",
            "Epoch 91/100\n",
            "176/176 [==============================] - 1s 5ms/step - loss: 0.8718 - accuracy: 0.6950 - val_loss: 1.0209 - val_accuracy: 0.6484\n",
            "Epoch 92/100\n",
            "176/176 [==============================] - 1s 5ms/step - loss: 0.8715 - accuracy: 0.6948 - val_loss: 1.0246 - val_accuracy: 0.6490\n",
            "Epoch 93/100\n",
            "176/176 [==============================] - 1s 4ms/step - loss: 0.8685 - accuracy: 0.6947 - val_loss: 1.0178 - val_accuracy: 0.6506\n",
            "Epoch 94/100\n",
            "176/176 [==============================] - 1s 4ms/step - loss: 0.8684 - accuracy: 0.6982 - val_loss: 0.9994 - val_accuracy: 0.6532\n",
            "Epoch 95/100\n",
            "176/176 [==============================] - 1s 4ms/step - loss: 0.8660 - accuracy: 0.6963 - val_loss: 1.0233 - val_accuracy: 0.6468\n",
            "Epoch 96/100\n",
            "176/176 [==============================] - 1s 4ms/step - loss: 0.8658 - accuracy: 0.6951 - val_loss: 1.0119 - val_accuracy: 0.6450\n",
            "Epoch 97/100\n",
            "176/176 [==============================] - 1s 5ms/step - loss: 0.8618 - accuracy: 0.6974 - val_loss: 0.9984 - val_accuracy: 0.6520\n",
            "Epoch 98/100\n",
            "176/176 [==============================] - 1s 5ms/step - loss: 0.8621 - accuracy: 0.6988 - val_loss: 1.0165 - val_accuracy: 0.6522\n",
            "Epoch 99/100\n",
            "176/176 [==============================] - 1s 5ms/step - loss: 0.8622 - accuracy: 0.6958 - val_loss: 1.0170 - val_accuracy: 0.6528\n",
            "Epoch 100/100\n",
            "176/176 [==============================] - 1s 4ms/step - loss: 0.8600 - accuracy: 0.6966 - val_loss: 1.0146 - val_accuracy: 0.6536\n"
          ],
          "name": "stdout"
        }
      ]
    },
    {
      "cell_type": "markdown",
      "metadata": {
        "id": "KD4s1foaqOPv"
      },
      "source": [
        "**Accuracy Baseline System**"
      ]
    },
    {
      "cell_type": "code",
      "metadata": {
        "id": "Kb9mAv7gPsGw",
        "outputId": "0ce71390-a072-4a0a-eefb-683975f778a0",
        "colab": {
          "base_uri": "https://localhost:8080/",
          "height": 355
        }
      },
      "source": [
        "#Accuracy-Baseline System\n",
        "fig = plt.figure(figsize=(10,5))\n",
        "plt.plot(history.history['accuracy'], label='accuracy')\n",
        "plt.plot(history.history['val_accuracy'], label = 'val_accuracy')\n",
        "plt.xlabel('Epoch')\n",
        "plt.ylabel('Accuracy')\n",
        "plt.ylim([0.25, 0.7])\n",
        "plt.legend(['Train Accuracy', 'Validation Accuracy'], loc='center right')"
      ],
      "execution_count": null,
      "outputs": [
        {
          "output_type": "execute_result",
          "data": {
            "text/plain": [
              "<matplotlib.legend.Legend at 0x7ff1964fdb00>"
            ]
          },
          "metadata": {
            "tags": []
          },
          "execution_count": 10
        },
        {
          "output_type": "display_data",
          "data": {
            "image/png": "[encoded data removed]",
            "text/plain": [
              "<Figure size 720x360 with 1 Axes>"
            ]
          },
          "metadata": {
            "tags": [],
            "needs_background": "light"
          }
        }
      ]
    },
    {
      "cell_type": "markdown",
      "metadata": {
        "id": "v8qNe0yhQNaK"
      },
      "source": [
        "**Augmented Dataset**"
      ]
    },
    {
      "cell_type": "code",
      "metadata": {
        "id": "lonHkr3aP2Uy"
      },
      "source": [
        "#Loading original cifar 10 dataset\n",
        "(train_images, train_labels), (test_images, test_labels) = datasets.cifar10.load_data()"
      ],
      "execution_count": null,
      "outputs": []
    },
    {
      "cell_type": "code",
      "metadata": {
        "id": "H0jw_RizHGdj"
      },
      "source": [
        "# one hot encode target values\n",
        "train_labels = to_categorical(train_labels,10)\n",
        "test_labels = to_categorical(test_labels,10)\n",
        "\n",
        "# Normalize pixel values to be between 0 and 1 instead of -1 to 1 this time\n",
        "train_images, test_images = train_images / 255.0, test_images / 255.0"
      ],
      "execution_count": null,
      "outputs": []
    },
    {
      "cell_type": "code",
      "metadata": {
        "id": "aUGAI6FFHJzm"
      },
      "source": [
        "#Setting aside 5000 training examples as validation dataset\n",
        "from sklearn.model_selection import train_test_split\n",
        "train_images, val_images, train_labels, val_labels = train_test_split(train_images, train_labels, test_size=0.1, random_state=42,shuffle=True)"
      ],
      "execution_count": null,
      "outputs": []
    },
    {
      "cell_type": "code",
      "metadata": {
        "id": "NAqPCVDiHMbL"
      },
      "source": [
        "#First Augmented Dataset:Brighten by 10%\n",
        "augmented_dataset1= np.minimum(train_images*1.1,1)\n",
        "augmented_dataset1_label=train_labels\n",
        "\n",
        "#Second Augmented Dataset:Darken by 10%\n",
        "augmented_dataset2=train_images*0.9\n",
        "augmented_dataset2_label=train_labels\n",
        "\n",
        "#Third Augmented dataset: Flipping image horizontally\n",
        "temp=train_images\n",
        "augmented_dataset3=np.fliplr(temp)\n",
        "augmented_dataset3_label=train_labels\n",
        "\n",
        "#Fourth Augmented dataset: Original dataset\n",
        "augmented_dataset4=train_images\n",
        "augmented_dataset4_label=train_labels\n"
      ],
      "execution_count": null,
      "outputs": []
    },
    {
      "cell_type": "code",
      "metadata": {
        "id": "Dmmkp8yFHP4R"
      },
      "source": [
        "#Correcting the alignmenent of augmented dataset 3\n",
        "temp=train_images\n",
        "import cv2\n",
        "for i in range(45000):\n",
        "  flipr = cv2.flip(temp[i], 1)\n",
        "  augmented_dataset3[i]=flipr\n"
      ],
      "execution_count": null,
      "outputs": []
    },
    {
      "cell_type": "code",
      "metadata": {
        "id": "5lsIZDDcHULl"
      },
      "source": [
        "# Some more tedious work\n",
        "(train_images, train_labels), (test_images, test_labels) = datasets.cifar10.load_data()\n",
        "# one hot encode target values\n",
        "train_labels = to_categorical(train_labels,10)\n",
        "test_labels = to_categorical(test_labels,10)\n",
        "\n",
        "# Normalize pixel values to be between 0 and 1\n",
        "train_images, test_images = train_images / 255.0, test_images / 255.0\n",
        "\n",
        "from sklearn.model_selection import train_test_split\n",
        "train_images, val_images, train_labels, val_labels = train_test_split(train_images, train_labels, test_size=0.1, random_state=42,shuffle=True)\n",
        "\n",
        "augmented_dataset4=train_images\n",
        "augmented_dataset4_label=train_labels"
      ],
      "execution_count": null,
      "outputs": []
    },
    {
      "cell_type": "markdown",
      "metadata": {
        "id": "pTaLgoBcrUu2"
      },
      "source": [
        "**Plotting for one of the training images for each of the 4 augmented datasets to check if augmentation worked well**"
      ]
    },
    {
      "cell_type": "markdown",
      "metadata": {
        "id": "KQB1ljx7re83"
      },
      "source": [
        "**Augmented dataset1: Brighten pixels by 10%**\n",
        "**Augmented dataset 2:Darken pixels by 10%**\n",
        "**Augmented dataset 3: flip images horizontally(mirror image)**\n",
        "**Augmented dataset 4: Original dataset**"
      ]
    },
    {
      "cell_type": "code",
      "metadata": {
        "id": "lDhesOF9HX4W",
        "outputId": "4e8a60e9-c790-43e9-b587-d1dba10cf499",
        "colab": {
          "base_uri": "https://localhost:8080/",
          "height": 107
        }
      },
      "source": [
        "i=100\n",
        "f = plt.figure()\n",
        "f.add_subplot(1,4, 1)\n",
        "plt.imshow(augmented_dataset1[i], cmap=plt.cm.binary)\n",
        "plt.xticks([])\n",
        "plt.yticks([])\n",
        "\n",
        "f.add_subplot(1,4, 2)\n",
        "plt.imshow(augmented_dataset2[i], cmap=plt.cm.binary)\n",
        "plt.xticks([])\n",
        "plt.yticks([])\n",
        "f.add_subplot(1,4, 3)\n",
        "plt.imshow(augmented_dataset3[i], cmap=plt.cm.binary)\n",
        "plt.xticks([])\n",
        "plt.yticks([])\n",
        "f.add_subplot(1,4, 4)\n",
        "plt.imshow(augmented_dataset4[i], cmap=plt.cm.binary)\n",
        "plt.xticks([])\n",
        "plt.yticks([])\n",
        "plt.show(block=True)"
      ],
      "execution_count": null,
      "outputs": [
        {
          "output_type": "display_data",
          "data": {
            "image/png": "[encoded data removed]",
            "text/plain": [
              "<Figure size 432x288 with 4 Axes>"
            ]
          },
          "metadata": {
            "tags": []
          }
        }
      ]
    },
    {
      "cell_type": "code",
      "metadata": {
        "id": "db8G5HpJHaY9"
      },
      "source": [
        "#Stacking these augmented datasets into one big dataset\n",
        "final_dataset=np.vstack((augmented_dataset1,augmented_dataset2,augmented_dataset3,augmented_dataset4))"
      ],
      "execution_count": null,
      "outputs": []
    },
    {
      "cell_type": "code",
      "metadata": {
        "id": "3LG5RbF-Vp4i",
        "outputId": "1df9ccbc-e165-400f-ec13-9e88f58f1192",
        "colab": {
          "base_uri": "https://localhost:8080/",
          "height": 34
        }
      },
      "source": [
        "final_dataset.shape"
      ],
      "execution_count": null,
      "outputs": [
        {
          "output_type": "execute_result",
          "data": {
            "text/plain": [
              "(180000, 32, 32, 3)"
            ]
          },
          "metadata": {
            "tags": []
          },
          "execution_count": 39
        }
      ]
    },
    {
      "cell_type": "code",
      "metadata": {
        "id": "5F7BMcipHc3a"
      },
      "source": [
        "#Stacking their labels as well\n",
        "final_labels=np.vstack((train_labels,train_labels,train_labels,train_labels))"
      ],
      "execution_count": null,
      "outputs": []
    },
    {
      "cell_type": "code",
      "metadata": {
        "id": "kMMZTYOUcNim",
        "outputId": "f6f54fb9-3037-46e5-96ec-ba1ef36c6dbb",
        "colab": {
          "base_uri": "https://localhost:8080/",
          "height": 34
        }
      },
      "source": [
        "final_labels.shape"
      ],
      "execution_count": null,
      "outputs": [
        {
          "output_type": "execute_result",
          "data": {
            "text/plain": [
              "(180000, 10)"
            ]
          },
          "metadata": {
            "tags": []
          },
          "execution_count": 41
        }
      ]
    },
    {
      "cell_type": "code",
      "metadata": {
        "id": "Ggqwh8C4cTX9",
        "outputId": "a7f39b28-8e71-4ee3-cc31-0d998caa5b42",
        "colab": {
          "base_uri": "https://localhost:8080/",
          "height": 34
        }
      },
      "source": [
        "val_images.shape"
      ],
      "execution_count": null,
      "outputs": [
        {
          "output_type": "execute_result",
          "data": {
            "text/plain": [
              "(5000, 32, 32, 3)"
            ]
          },
          "metadata": {
            "tags": []
          },
          "execution_count": 42
        }
      ]
    },
    {
      "cell_type": "code",
      "metadata": {
        "id": "HF2ktUTqcmwV",
        "outputId": "f7a72173-a880-45fe-f086-d695746fa64b",
        "colab": {
          "base_uri": "https://localhost:8080/",
          "height": 34
        }
      },
      "source": [
        "val_labels.shape"
      ],
      "execution_count": null,
      "outputs": [
        {
          "output_type": "execute_result",
          "data": {
            "text/plain": [
              "(5000, 10)"
            ]
          },
          "metadata": {
            "tags": []
          },
          "execution_count": 43
        }
      ]
    },
    {
      "cell_type": "code",
      "metadata": {
        "id": "UuOn1v59HgG4"
      },
      "source": [
        "#Normalizing this combined dataset to values between -1 and 1\n",
        "final_dataset, val_images = (final_dataset - 0.5)/0.5, (val_images - 0.5)/0.5"
      ],
      "execution_count": null,
      "outputs": []
    },
    {
      "cell_type": "code",
      "metadata": {
        "id": "4hlYK1VOVnUy",
        "outputId": "e4518c7b-19cf-4142-fa56-ae46124d3154",
        "colab": {
          "base_uri": "https://localhost:8080/",
          "height": 34
        }
      },
      "source": [
        "np.min(final_dataset)"
      ],
      "execution_count": null,
      "outputs": [
        {
          "output_type": "execute_result",
          "data": {
            "text/plain": [
              "-1.0"
            ]
          },
          "metadata": {
            "tags": []
          },
          "execution_count": 50
        }
      ]
    },
    {
      "cell_type": "code",
      "metadata": {
        "id": "Gu2GtmXoHkCc"
      },
      "source": [
        "#Creating a model to fit this data\n",
        "model1 = Sequential()\n",
        "model1.add(Conv2D(filters=10, kernel_size=(5,5), activation='relu', input_shape=(32,32,3), strides=1))\n",
        "model1.add(MaxPooling2D(pool_size=(2,2), strides=2))\n",
        "model1.add(Conv2D(filters=10, kernel_size=(5,5), activation='relu', strides=1))\n",
        "model1.add(MaxPooling2D(pool_size=(2,2), strides=2))\n",
        "model1.add(Flatten())\n",
        "model1.add(Dense(20, activation='relu', name='layer2', kernel_initializer= 'he_normal' ))\n",
        "model1.add(Dense(10, activation='softmax', name='layer3', kernel_initializer = 'he_normal'))\n"
      ],
      "execution_count": null,
      "outputs": []
    },
    {
      "cell_type": "code",
      "metadata": {
        "id": "AjCFV2UwHsnO",
        "outputId": "d3dd7fba-c6e2-49ba-880e-e48e1a2da1a6",
        "colab": {
          "base_uri": "https://localhost:8080/",
          "height": 391
        }
      },
      "source": [
        "model1.summary()"
      ],
      "execution_count": null,
      "outputs": [
        {
          "output_type": "stream",
          "text": [
            "Model: \"sequential_2\"\n",
            "_________________________________________________________________\n",
            "Layer (type)                 Output Shape              Param #   \n",
            "=================================================================\n",
            "conv2d_4 (Conv2D)            (None, 28, 28, 10)        760       \n",
            "_________________________________________________________________\n",
            "max_pooling2d_4 (MaxPooling2 (None, 14, 14, 10)        0         \n",
            "_________________________________________________________________\n",
            "conv2d_5 (Conv2D)            (None, 10, 10, 10)        2510      \n",
            "_________________________________________________________________\n",
            "max_pooling2d_5 (MaxPooling2 (None, 5, 5, 10)          0         \n",
            "_________________________________________________________________\n",
            "flatten_2 (Flatten)          (None, 250)               0         \n",
            "_________________________________________________________________\n",
            "layer2 (Dense)               (None, 20)                5020      \n",
            "_________________________________________________________________\n",
            "layer3 (Dense)               (None, 10)                210       \n",
            "=================================================================\n",
            "Total params: 8,500\n",
            "Trainable params: 8,500\n",
            "Non-trainable params: 0\n",
            "_________________________________________________________________\n"
          ],
          "name": "stdout"
        }
      ]
    },
    {
      "cell_type": "code",
      "metadata": {
        "id": "XezuLhfzHwDB"
      },
      "source": [
        "model1.compile(optimizer='adam',\n",
        "              loss='categorical_crossentropy',\n",
        "              metrics=['accuracy'])"
      ],
      "execution_count": null,
      "outputs": []
    },
    {
      "cell_type": "code",
      "metadata": {
        "id": "7HBloAQYHyZr",
        "outputId": "19d58a87-5ae0-4fb7-8ca5-2db890ba871c",
        "colab": {
          "base_uri": "https://localhost:8080/",
          "height": 748
        }
      },
      "source": [
        "history1 = model1.fit(final_dataset, final_labels, epochs=100,batch_size=512, \n",
        "                    validation_data=(val_images, val_labels))"
      ],
      "execution_count": null,
      "outputs": [
        {
          "output_type": "stream",
          "text": [
            "352/352 [==============================] - 2s 6ms/step - loss: 0.8433 - accuracy: 0.7074 - val_loss: 0.9814 - val_accuracy: 0.6622\n",
            "Epoch 80/100\n",
            "352/352 [==============================] - 2s 6ms/step - loss: 0.8386 - accuracy: 0.7093 - val_loss: 0.9788 - val_accuracy: 0.6658\n",
            "Epoch 81/100\n",
            "352/352 [==============================] - 2s 6ms/step - loss: 0.8386 - accuracy: 0.7095 - val_loss: 0.9629 - val_accuracy: 0.6684\n",
            "Epoch 82/100\n",
            "352/352 [==============================] - 2s 6ms/step - loss: 0.8384 - accuracy: 0.7091 - val_loss: 0.9605 - val_accuracy: 0.6710\n",
            "Epoch 83/100\n",
            "352/352 [==============================] - 2s 6ms/step - loss: 0.8374 - accuracy: 0.7096 - val_loss: 0.9686 - val_accuracy: 0.6652\n",
            "Epoch 84/100\n",
            "352/352 [==============================] - 2s 6ms/step - loss: 0.8366 - accuracy: 0.7092 - val_loss: 0.9896 - val_accuracy: 0.6654\n",
            "Epoch 85/100\n",
            "352/352 [==============================] - 2s 6ms/step - loss: 0.8349 - accuracy: 0.7110 - val_loss: 0.9754 - val_accuracy: 0.6658\n",
            "Epoch 86/100\n",
            "352/352 [==============================] - 2s 6ms/step - loss: 0.8360 - accuracy: 0.7098 - val_loss: 0.9666 - val_accuracy: 0.6664\n",
            "Epoch 87/100\n",
            "352/352 [==============================] - 2s 6ms/step - loss: 0.8330 - accuracy: 0.7117 - val_loss: 0.9695 - val_accuracy: 0.6636\n",
            "Epoch 88/100\n",
            "352/352 [==============================] - 2s 6ms/step - loss: 0.8321 - accuracy: 0.7110 - val_loss: 0.9654 - val_accuracy: 0.6718\n",
            "Epoch 89/100\n",
            "352/352 [==============================] - 2s 6ms/step - loss: 0.8315 - accuracy: 0.7114 - val_loss: 0.9614 - val_accuracy: 0.6696\n",
            "Epoch 90/100\n",
            "352/352 [==============================] - 2s 6ms/step - loss: 0.8298 - accuracy: 0.7128 - val_loss: 0.9730 - val_accuracy: 0.6682\n",
            "Epoch 91/100\n",
            "352/352 [==============================] - 2s 6ms/step - loss: 0.8306 - accuracy: 0.7126 - val_loss: 0.9570 - val_accuracy: 0.6718\n",
            "Epoch 92/100\n",
            "352/352 [==============================] - 2s 6ms/step - loss: 0.8304 - accuracy: 0.7116 - val_loss: 0.9679 - val_accuracy: 0.6690\n",
            "Epoch 93/100\n",
            "352/352 [==============================] - 2s 6ms/step - loss: 0.8287 - accuracy: 0.7120 - val_loss: 0.9667 - val_accuracy: 0.6636\n",
            "Epoch 94/100\n",
            "352/352 [==============================] - 2s 6ms/step - loss: 0.8300 - accuracy: 0.7116 - val_loss: 0.9623 - val_accuracy: 0.6688\n",
            "Epoch 95/100\n",
            "352/352 [==============================] - 2s 6ms/step - loss: 0.8270 - accuracy: 0.7127 - val_loss: 0.9753 - val_accuracy: 0.6666\n",
            "Epoch 96/100\n",
            "352/352 [==============================] - 2s 6ms/step - loss: 0.8275 - accuracy: 0.7130 - val_loss: 0.9663 - val_accuracy: 0.6660\n",
            "Epoch 97/100\n",
            "352/352 [==============================] - 2s 6ms/step - loss: 0.8264 - accuracy: 0.7137 - val_loss: 0.9580 - val_accuracy: 0.6746\n",
            "Epoch 98/100\n",
            "352/352 [==============================] - 2s 6ms/step - loss: 0.8247 - accuracy: 0.7141 - val_loss: 0.9618 - val_accuracy: 0.6728\n",
            "Epoch 99/100\n",
            "352/352 [==============================] - 2s 6ms/step - loss: 0.8251 - accuracy: 0.7140 - val_loss: 0.9572 - val_accuracy: 0.6756\n",
            "Epoch 100/100\n",
            "352/352 [==============================] - 2s 6ms/step - loss: 0.8246 - accuracy: 0.7138 - val_loss: 0.9649 - val_accuracy: 0.6720\n"
          ],
          "name": "stdout"
        }
      ]
    },
    {
      "cell_type": "markdown",
      "metadata": {
        "id": "zAaOX_S2sb87"
      },
      "source": [
        "**Comparing the validation accuracy for this augmented dataset and baseline dataset. Same Model trained on augmented dataset performs much better than the one trained on baseline dataset**"
      ]
    },
    {
      "cell_type": "code",
      "metadata": {
        "id": "coF0lTpIjXsF",
        "outputId": "b156dd6d-d596-459a-d0de-a0bb4512b8d3",
        "colab": {
          "base_uri": "https://localhost:8080/",
          "height": 355
        }
      },
      "source": [
        "fig = plt.figure(figsize=(10,5))\n",
        "plt.plot(history.history['val_accuracy'], label='Baseline')\n",
        "plt.plot(history1.history['val_accuracy'], label = 'Augmented Dataset')\n",
        "plt.xlabel('Epoch')\n",
        "plt.ylabel('Accuracy')\n",
        "plt.ylim([0.30, 0.8])\n",
        "plt.legend(['Baseline', 'Augmented Dataset'], loc='center right')\n",
        "#plt.legend(loc='lower right')\n",
        "\n"
      ],
      "execution_count": null,
      "outputs": [
        {
          "output_type": "execute_result",
          "data": {
            "text/plain": [
              "<matplotlib.legend.Legend at 0x7feda42f1828>"
            ]
          },
          "metadata": {
            "tags": []
          },
          "execution_count": 60
        },
        {
          "output_type": "display_data",
          "data": {
            "image/png": "[encoded data removed]",
            "text/plain": [
              "<Figure size 720x360 with 1 Axes>"
            ]
          },
          "metadata": {
            "tags": [],
            "needs_background": "light"
          }
        }
      ]
    },
    {
      "cell_type": "markdown",
      "metadata": {
        "id": "sveR1a8A8jmO"
      },
      "source": [
        "**Problem 4**"
      ]
    },
    {
      "cell_type": "markdown",
      "metadata": {
        "id": "mbs0ZSy3iDzm"
      },
      "source": [
        "**Importing Libraries**"
      ]
    },
    {
      "cell_type": "code",
      "metadata": {
        "id": "Lmh2D2EDbosv"
      },
      "source": [
        "import tensorflow as tf\n",
        "from tensorflow.keras import datasets, layers, models\n",
        "import matplotlib.pyplot as plt\n",
        "from keras.utils import to_categorical\n",
        "from tensorflow.keras import Model\n",
        "import numpy as np\n",
        "import librosa\n",
        "from tensorflow.keras.models import Sequential\n",
        "from tensorflow.keras.layers import Dense\n",
        "import librosa.display\n",
        "import matplotlib.pyplot as plt\n",
        "import IPython.display as ipd\n",
        "\n",
        "from keras.layers import Activation\n",
        "from keras.layers import Dropout, Flatten\n",
        "from keras.layers import  Conv1D,Conv2D, MaxPooling2D,MaxPooling1D\n",
        "from keras.optimizers import SGD"
      ],
      "execution_count": 1,
      "outputs": []
    },
    {
      "cell_type": "code",
      "metadata": {
        "id": "_egLz76Y8p25"
      },
      "source": [
        "#Importing the data\n",
        "(train_images, train_labels), (test_images, test_labels) = datasets.cifar10.load_data()"
      ],
      "execution_count": 2,
      "outputs": []
    },
    {
      "cell_type": "markdown",
      "metadata": {
        "id": "Pu8QABqRifnJ"
      },
      "source": [
        "**Setting Aside 50 examples per class=500 training examples** "
      ]
    },
    {
      "cell_type": "code",
      "metadata": {
        "id": "zdy9O_B8GRhs"
      },
      "source": [
        "import random\n",
        "a = list()   \n",
        "b=list()\n",
        "c=list()\n",
        "\n",
        "for i in range(10):\n",
        "  index = np.where(train_labels == i)[0]\n",
        "  index=list(index)\n",
        "  fin_index=random.sample(index, 50)\n",
        "  \n",
        "  temp_images=train_images[fin_index]\n",
        "  temp_labels=train_labels[fin_index]\n",
        "  \n",
        "  \n",
        "  a.append(temp_images)\n",
        "  b.append(temp_labels)\n",
        "  c.append(fin_index)"
      ],
      "execution_count": 3,
      "outputs": []
    },
    {
      "cell_type": "code",
      "metadata": {
        "id": "c1-shZJOJlGm",
        "outputId": "a39c2bf6-2724-4d98-f1fb-ca30933e2d29",
        "colab": {
          "base_uri": "https://localhost:8080/",
          "height": 51
        }
      },
      "source": [
        "train_images_shortlist = np.vstack(a)\n",
        "train_labels_shortlist=np.vstack(b)\n",
        "print(train_images_shortlist.shape)\n",
        "print(train_labels_shortlist.shape)"
      ],
      "execution_count": 4,
      "outputs": [
        {
          "output_type": "stream",
          "text": [
            "(500, 32, 32, 3)\n",
            "(500, 1)\n"
          ],
          "name": "stdout"
        }
      ]
    },
    {
      "cell_type": "code",
      "metadata": {
        "id": "Ymlx4Mp0J7RK",
        "outputId": "92dcdb10-f46d-4305-c297-e991fbb08a50",
        "colab": {
          "base_uri": "https://localhost:8080/",
          "height": 34
        }
      },
      "source": [
        "#Keeping the remaining training examples in train_images_remaining variable \n",
        "train_images_remaining = np.delete(train_images, c,0)\n",
        "print(train_images_remaining.shape)"
      ],
      "execution_count": 5,
      "outputs": [
        {
          "output_type": "stream",
          "text": [
            "(49500, 32, 32, 3)\n"
          ],
          "name": "stdout"
        }
      ]
    },
    {
      "cell_type": "markdown",
      "metadata": {
        "id": "y33gqc95i44D"
      },
      "source": [
        "**Pretext Task**"
      ]
    },
    {
      "cell_type": "code",
      "metadata": {
        "id": "5f3coGfiLyDP"
      },
      "source": [
        "#a) Setting label for class 0 as 0\n",
        "zero_class = np.full((49500, 1), 0, dtype=np.int64)\n",
        "zero_class_images=train_images_remaining\n",
        "\n",
        "#b) Setting label for class 1 as 1\n",
        "first_class=np.full((49500, 1), 1, dtype=np.int64)\n",
        "first_class_images=np.flip(train_images_remaining, axis=1)\n",
        "\n",
        "#c) Setting label for class 2 as 2\n",
        "second_class=np.full((49500, 1), 2, dtype=np.int64)\n",
        "second_class_images= np.rot90(train_images_remaining, axes=(1,2))"
      ],
      "execution_count": 6,
      "outputs": []
    },
    {
      "cell_type": "code",
      "metadata": {
        "id": "VBOTlVvwSWVP",
        "outputId": "7b81034a-b5b5-4462-91db-96ea4ee8b995",
        "colab": {
          "base_uri": "https://localhost:8080/",
          "height": 133
        }
      },
      "source": [
        "#Plotting one of the image for each of these augmented datasets-class 0: image as it is, class 1: image vertically flipped, class 2: image flipped 90 degree counter clockwise\n",
        "\n",
        "f = plt.figure()\n",
        "f.add_subplot(1,3, 1)\n",
        "plt.imshow(zero_class_images[11], cmap=plt.cm.binary)\n",
        "plt.xticks([])\n",
        "plt.yticks([])\n",
        "\n",
        "f.add_subplot(1,3, 2)\n",
        "plt.imshow(first_class_images[11], cmap=plt.cm.binary)\n",
        "plt.xticks([])\n",
        "plt.yticks([])\n",
        "f.add_subplot(1,3, 3)\n",
        "plt.imshow(second_class_images[11], cmap=plt.cm.binary)\n",
        "plt.xticks([])\n",
        "plt.yticks([])\n",
        "plt.show(block=True)"
      ],
      "execution_count": 7,
      "outputs": [
        {
          "output_type": "display_data",
          "data": {
            "image/png": "[encoded data removed]",
            "text/plain": [
              "<Figure size 432x288 with 3 Axes>"
            ]
          },
          "metadata": {
            "tags": []
          }
        }
      ]
    },
    {
      "cell_type": "markdown",
      "metadata": {
        "id": "rkSyd4-HjcVR"
      },
      "source": [
        "**Creating the augmented dataset by stacking each of the 3 datasets**"
      ]
    },
    {
      "cell_type": "code",
      "metadata": {
        "id": "XrG6Lf_-TW7n"
      },
      "source": [
        "pretext_dataset=np.vstack((zero_class_images,first_class_images,second_class_images))\n",
        "pretext_labels=np.vstack((zero_class,first_class,second_class))"
      ],
      "execution_count": 8,
      "outputs": []
    },
    {
      "cell_type": "code",
      "metadata": {
        "id": "2UuTdQhNTxLg",
        "outputId": "42cd81f7-2f8a-49c4-b321-41dfa5364665",
        "colab": {
          "base_uri": "https://localhost:8080/",
          "height": 51
        }
      },
      "source": [
        "print(pretext_dataset.shape)\n",
        "print(pretext_labels.shape)"
      ],
      "execution_count": 9,
      "outputs": [
        {
          "output_type": "stream",
          "text": [
            "(148500, 32, 32, 3)\n",
            "(148500, 1)\n"
          ],
          "name": "stdout"
        }
      ]
    },
    {
      "cell_type": "code",
      "metadata": {
        "id": "B3te5K3KUnou"
      },
      "source": [
        "# Normalize pixel values of augmented dataset to be between -1 and 1\n",
        "final_dataset = pretext_dataset / 255.0\n",
        "final_dataset = (final_dataset - 0.5)/0.5"
      ],
      "execution_count": 10,
      "outputs": []
    },
    {
      "cell_type": "code",
      "metadata": {
        "id": "eqL0knC9YNUy",
        "outputId": "41089bcf-9ebb-4451-e03f-733538f12553",
        "colab": {
          "base_uri": "https://localhost:8080/",
          "height": 34
        }
      },
      "source": [
        "print(final_dataset.shape)\n",
        "\n",
        "#Converting labels to one hot encoding with 3 classes-0,1,2\n",
        "final_labels = to_categorical(pretext_labels,3)"
      ],
      "execution_count": 12,
      "outputs": [
        {
          "output_type": "stream",
          "text": [
            "(148500, 32, 32, 3)\n"
          ],
          "name": "stdout"
        }
      ]
    },
    {
      "cell_type": "code",
      "metadata": {
        "id": "lOYz8bZ4Y6-e"
      },
      "source": [
        "#Creating a sequential model to train using this augmented dataset\n",
        "model_pretext = Sequential()\n",
        "model_pretext.add(Conv2D(filters=10, kernel_size=(5,5), activation='relu', input_shape=(32,32,3), strides=1))\n",
        "model_pretext.add(MaxPooling2D(pool_size=(2,2), strides=2))\n",
        "model_pretext.add(Conv2D(filters=10, kernel_size=(5,5), activation='relu', strides=1))\n",
        "model_pretext.add(MaxPooling2D(pool_size=(2,2), strides=2))\n",
        "model_pretext.add(Flatten())\n",
        "model_pretext.add(Dense(20, activation='relu', name='layer2', kernel_initializer= 'he_normal' ))\n",
        "model_pretext.add(Dense(3, activation='softmax', name='layer3', kernel_initializer = 'he_normal'))"
      ],
      "execution_count": 13,
      "outputs": []
    },
    {
      "cell_type": "code",
      "metadata": {
        "id": "Y6kYqr6-ZROG",
        "outputId": "165bdfef-69fd-4c55-b5dd-5100bca8a3fe",
        "colab": {
          "base_uri": "https://localhost:8080/",
          "height": 391
        }
      },
      "source": [
        "model_pretext.summary()"
      ],
      "execution_count": 14,
      "outputs": [
        {
          "output_type": "stream",
          "text": [
            "Model: \"sequential\"\n",
            "_________________________________________________________________\n",
            "Layer (type)                 Output Shape              Param #   \n",
            "=================================================================\n",
            "conv2d (Conv2D)              (None, 28, 28, 10)        760       \n",
            "_________________________________________________________________\n",
            "max_pooling2d (MaxPooling2D) (None, 14, 14, 10)        0         \n",
            "_________________________________________________________________\n",
            "conv2d_1 (Conv2D)            (None, 10, 10, 10)        2510      \n",
            "_________________________________________________________________\n",
            "max_pooling2d_1 (MaxPooling2 (None, 5, 5, 10)          0         \n",
            "_________________________________________________________________\n",
            "flatten (Flatten)            (None, 250)               0         \n",
            "_________________________________________________________________\n",
            "layer2 (Dense)               (None, 20)                5020      \n",
            "_________________________________________________________________\n",
            "layer3 (Dense)               (None, 3)                 63        \n",
            "=================================================================\n",
            "Total params: 8,353\n",
            "Trainable params: 8,353\n",
            "Non-trainable params: 0\n",
            "_________________________________________________________________\n"
          ],
          "name": "stdout"
        }
      ]
    },
    {
      "cell_type": "code",
      "metadata": {
        "id": "k61QAvjzZhIW"
      },
      "source": [
        "model_pretext.compile(optimizer='adam',\n",
        "              loss='categorical_crossentropy',\n",
        "              metrics=['accuracy'])\n"
      ],
      "execution_count": 15,
      "outputs": []
    },
    {
      "cell_type": "code",
      "metadata": {
        "id": "WtkVfkWPag8_",
        "outputId": "7844caab-bf79-440c-e24c-b283c06ee96e",
        "colab": {
          "base_uri": "https://localhost:8080/",
          "height": 204
        }
      },
      "source": [
        "#Fitting the model\n",
        "history_pretext = model_pretext.fit(final_dataset, final_labels, epochs=100,batch_size=512,shuffle=True)"
      ],
      "execution_count": null,
      "outputs": [
        {
          "output_type": "stream",
          "text": [
            "291/291 [==============================] - 2s 6ms/step - loss: 0.5281 - accuracy: 0.7776\n",
            "Epoch 96/100\n",
            "291/291 [==============================] - 2s 6ms/step - loss: 0.5283 - accuracy: 0.7776\n",
            "Epoch 97/100\n",
            "291/291 [==============================] - 2s 6ms/step - loss: 0.5274 - accuracy: 0.7791\n",
            "Epoch 98/100\n",
            "291/291 [==============================] - 2s 6ms/step - loss: 0.5278 - accuracy: 0.7783\n",
            "Epoch 99/100\n",
            "291/291 [==============================] - 2s 6ms/step - loss: 0.5269 - accuracy: 0.7781\n",
            "Epoch 100/100\n",
            "291/291 [==============================] - 2s 6ms/step - loss: 0.5269 - accuracy: 0.7789\n"
          ],
          "name": "stdout"
        }
      ]
    },
    {
      "cell_type": "markdown",
      "metadata": {
        "id": "14u7Af74k3ry"
      },
      "source": [
        "**Next steps to save this pretext model**"
      ]
    },
    {
      "cell_type": "code",
      "metadata": {
        "id": "qniicVFlhvxi",
        "outputId": "48a9eb03-9bf9-4280-f603-b04b230e3408",
        "colab": {
          "base_uri": "https://localhost:8080/",
          "height": 34
        }
      },
      "source": [
        "#from google.colab import drive\n",
        "#drive.mount('/content/drive')"
      ],
      "execution_count": null,
      "outputs": [
        {
          "output_type": "stream",
          "text": [
            "Mounted at /content/gdrive\n"
          ],
          "name": "stdout"
        }
      ]
    },
    {
      "cell_type": "code",
      "metadata": {
        "id": "AvFN2D_-nRSn"
      },
      "source": [
        "import keras\n",
        "from tensorflow.keras.models import load_model"
      ],
      "execution_count": 52,
      "outputs": []
    },
    {
      "cell_type": "code",
      "metadata": {
        "id": "wbojb1WGg6cv"
      },
      "source": [
        "model_pretext.save(\"/content/drive/My Drive/pretext_model.h5\")\n",
        "\n",
        "# It can be used to reconstruct the model identically.\n",
        "#model_pretext = keras.models.load_model(\"/content/drive/My Drive/pretext_model.h5\")"
      ],
      "execution_count": 15,
      "outputs": []
    },
    {
      "cell_type": "markdown",
      "metadata": {
        "id": "dD6qiZ5lhkrN"
      },
      "source": [
        "**Baseline Model**"
      ]
    },
    {
      "cell_type": "markdown",
      "metadata": {
        "id": "hodaXB0ElKjT"
      },
      "source": [
        "**Using the 500 data points we separated for each class to train this baseline model**"
      ]
    },
    {
      "cell_type": "code",
      "metadata": {
        "id": "McihriaZhXjX",
        "outputId": "344ab82e-8b4d-4ef6-fe8f-600a4efbd836",
        "colab": {
          "base_uri": "https://localhost:8080/",
          "height": 85
        }
      },
      "source": [
        "#Images- Normalize pixel values to be between -1 and 1\n",
        "baseline_dataset,baseline_dataset_test = train_images_shortlist / 255.0,test_images/255.0\n",
        "baseline_dataset,baseline_dataset_test = (baseline_dataset - 0.5)/0.5,(baseline_dataset_test-0.5)/0.5\n",
        "print(baseline_dataset.shape)\n",
        "print(baseline_dataset_test.shape)\n",
        "\n",
        "#Labels-One hot encoding\n",
        "baseline_labels = to_categorical(train_labels_shortlist,10)\n",
        "baseline_labels_test = to_categorical(test_labels,10)\n",
        "print(baseline_labels.shape)\n",
        "print(baseline_labels_test.shape)"
      ],
      "execution_count": 16,
      "outputs": [
        {
          "output_type": "stream",
          "text": [
            "(500, 32, 32, 3)\n",
            "(10000, 32, 32, 3)\n",
            "(500, 10)\n",
            "(10000, 10)\n"
          ],
          "name": "stdout"
        }
      ]
    },
    {
      "cell_type": "code",
      "metadata": {
        "id": "6tbQxAjsixhv"
      },
      "source": [
        "#Creating a baseline model\n",
        "model_baseline = Sequential()\n",
        "model_baseline.add(Conv2D(filters=10, kernel_size=(5,5), activation='relu', input_shape=(32,32,3), strides=1,kernel_initializer=\"he_normal\"))\n",
        "model_baseline.add(MaxPooling2D(pool_size=(2,2), strides=2))\n",
        "model_baseline.add(Conv2D(filters=10, kernel_size=(5,5), activation='relu', strides=1,kernel_initializer=\"he_normal\"))\n",
        "model_baseline.add(MaxPooling2D(pool_size=(2,2), strides=2))\n",
        "model_baseline.add(Flatten())\n",
        "model_baseline.add(Dense(20, activation='relu', name='layer2', kernel_initializer= 'he_normal' ))\n",
        "model_baseline.add(Dense(10, activation='softmax', name='layer3', kernel_initializer = 'he_normal'))\n"
      ],
      "execution_count": 17,
      "outputs": []
    },
    {
      "cell_type": "code",
      "metadata": {
        "id": "XI29nSs2jI9s",
        "outputId": "60d382b2-84fa-42b3-db20-55e21bdc5f94",
        "colab": {
          "base_uri": "https://localhost:8080/",
          "height": 391
        }
      },
      "source": [
        "model_baseline.summary()"
      ],
      "execution_count": 18,
      "outputs": [
        {
          "output_type": "stream",
          "text": [
            "Model: \"sequential\"\n",
            "_________________________________________________________________\n",
            "Layer (type)                 Output Shape              Param #   \n",
            "=================================================================\n",
            "conv2d (Conv2D)              (None, 28, 28, 10)        760       \n",
            "_________________________________________________________________\n",
            "max_pooling2d (MaxPooling2D) (None, 14, 14, 10)        0         \n",
            "_________________________________________________________________\n",
            "conv2d_1 (Conv2D)            (None, 10, 10, 10)        2510      \n",
            "_________________________________________________________________\n",
            "max_pooling2d_1 (MaxPooling2 (None, 5, 5, 10)          0         \n",
            "_________________________________________________________________\n",
            "flatten (Flatten)            (None, 250)               0         \n",
            "_________________________________________________________________\n",
            "layer2 (Dense)               (None, 20)                5020      \n",
            "_________________________________________________________________\n",
            "layer3 (Dense)               (None, 10)                210       \n",
            "=================================================================\n",
            "Total params: 8,500\n",
            "Trainable params: 8,500\n",
            "Non-trainable params: 0\n",
            "_________________________________________________________________\n"
          ],
          "name": "stdout"
        }
      ]
    },
    {
      "cell_type": "code",
      "metadata": {
        "id": "3wjdw88IjS_f"
      },
      "source": [
        "model_baseline.compile(optimizer='adam',\n",
        "              loss='categorical_crossentropy',\n",
        "              metrics=['accuracy'])"
      ],
      "execution_count": 19,
      "outputs": []
    },
    {
      "cell_type": "code",
      "metadata": {
        "id": "YKlMW4YkjZTN",
        "outputId": "88ecc8e1-273d-420a-dc90-7d3e936c36f3",
        "colab": {
          "base_uri": "https://localhost:8080/",
          "height": 360
        }
      },
      "source": [
        "#Fitting this baseline model using cifar-10 test dataset as our validation data and validating it every 100 epochs\n",
        "history_baseline = model_baseline.fit(baseline_dataset, baseline_labels,\n",
        "                                      epochs=10000,validation_data=(baseline_dataset_test, baseline_labels_test),\n",
        "                                      shuffle=True,verbose=1,validation_freq=100)"
      ],
      "execution_count": 20,
      "outputs": [
        {
          "output_type": "stream",
          "text": [
            "16/16 [==============================] - 0s 3ms/step - loss: 6.9141e-09 - accuracy: 1.0000\n",
            "Epoch 9992/10000\n",
            "16/16 [==============================] - 0s 3ms/step - loss: 6.6757e-09 - accuracy: 1.0000\n",
            "Epoch 9993/10000\n",
            "16/16 [==============================] - 0s 2ms/step - loss: 6.6757e-09 - accuracy: 1.0000\n",
            "Epoch 9994/10000\n",
            "16/16 [==============================] - 0s 3ms/step - loss: 6.6757e-09 - accuracy: 1.0000\n",
            "Epoch 9995/10000\n",
            "16/16 [==============================] - 0s 3ms/step - loss: 6.1989e-09 - accuracy: 1.0000\n",
            "Epoch 9996/10000\n",
            "16/16 [==============================] - 0s 3ms/step - loss: 5.7220e-09 - accuracy: 1.0000\n",
            "Epoch 9997/10000\n",
            "16/16 [==============================] - 0s 3ms/step - loss: 5.9605e-09 - accuracy: 1.0000\n",
            "Epoch 9998/10000\n",
            "16/16 [==============================] - 0s 3ms/step - loss: 5.9605e-09 - accuracy: 1.0000\n",
            "Epoch 9999/10000\n",
            "16/16 [==============================] - 0s 3ms/step - loss: 5.9605e-09 - accuracy: 1.0000\n",
            "Epoch 10000/10000\n",
            "16/16 [==============================] - 1s 44ms/step - loss: 6.4373e-09 - accuracy: 1.0000 - val_loss: 25.3004 - val_accuracy: 0.2990\n"
          ],
          "name": "stdout"
        }
      ]
    },
    {
      "cell_type": "code",
      "metadata": {
        "id": "1fdrZnqrS1q9"
      },
      "source": [
        "#Saving this model\n",
        "model_baseline.save(\"/content/drive/My Drive/baselinemodel.h5\")"
      ],
      "execution_count": 55,
      "outputs": []
    },
    {
      "cell_type": "markdown",
      "metadata": {
        "id": "MeKF0avvls5P"
      },
      "source": [
        "**Transfer Learning Task**"
      ]
    },
    {
      "cell_type": "code",
      "metadata": {
        "id": "PMNMp4Vc-wzJ",
        "outputId": "0e544e22-dfe6-4937-81a6-2d7ad2dfeec1",
        "colab": {
          "base_uri": "https://localhost:8080/",
          "height": 357
        }
      },
      "source": [
        "#Loading the trained Pretext model into model3. We will finetune the pretext model's weights as well to suit our classification task\n",
        "model3 = Sequential()\n",
        "for i in range(6):\n",
        "    layer = model_pretext.layers[i]\n",
        "    layer.trainable = True\n",
        "    model3.add(layer)\n",
        "model3.summary()"
      ],
      "execution_count": 37,
      "outputs": [
        {
          "output_type": "stream",
          "text": [
            "Model: \"sequential_4\"\n",
            "_________________________________________________________________\n",
            "Layer (type)                 Output Shape              Param #   \n",
            "=================================================================\n",
            "conv2d (Conv2D)              (None, 28, 28, 10)        760       \n",
            "_________________________________________________________________\n",
            "max_pooling2d (MaxPooling2D) (None, 14, 14, 10)        0         \n",
            "_________________________________________________________________\n",
            "conv2d_1 (Conv2D)            (None, 10, 10, 10)        2510      \n",
            "_________________________________________________________________\n",
            "max_pooling2d_1 (MaxPooling2 (None, 5, 5, 10)          0         \n",
            "_________________________________________________________________\n",
            "flatten (Flatten)            (None, 250)               0         \n",
            "_________________________________________________________________\n",
            "layer2 (Dense)               (None, 20)                5020      \n",
            "=================================================================\n",
            "Total params: 8,290\n",
            "Trainable params: 8,290\n",
            "Non-trainable params: 0\n",
            "_________________________________________________________________\n"
          ],
          "name": "stdout"
        }
      ]
    },
    {
      "cell_type": "code",
      "metadata": {
        "id": "nM1nlOYNBvz0"
      },
      "source": [
        "#Adding one hidden layer and an output layer to this pretrained model\n",
        "model3.add(Dense(64, activation='relu', name='layer3', kernel_initializer = 'he_normal'))\n",
        "model3.add(Dense(10, activation='softmax', name='output_layer', kernel_initializer = 'he_normal'))"
      ],
      "execution_count": 38,
      "outputs": []
    },
    {
      "cell_type": "code",
      "metadata": {
        "id": "_ZRS3sZQCCXH",
        "outputId": "60dd3cca-4efd-46ef-e9e4-a2282e8f9678",
        "colab": {
          "base_uri": "https://localhost:8080/",
          "height": 425
        }
      },
      "source": [
        "model3.summary()"
      ],
      "execution_count": 39,
      "outputs": [
        {
          "output_type": "stream",
          "text": [
            "Model: \"sequential_4\"\n",
            "_________________________________________________________________\n",
            "Layer (type)                 Output Shape              Param #   \n",
            "=================================================================\n",
            "conv2d (Conv2D)              (None, 28, 28, 10)        760       \n",
            "_________________________________________________________________\n",
            "max_pooling2d (MaxPooling2D) (None, 14, 14, 10)        0         \n",
            "_________________________________________________________________\n",
            "conv2d_1 (Conv2D)            (None, 10, 10, 10)        2510      \n",
            "_________________________________________________________________\n",
            "max_pooling2d_1 (MaxPooling2 (None, 5, 5, 10)          0         \n",
            "_________________________________________________________________\n",
            "flatten (Flatten)            (None, 250)               0         \n",
            "_________________________________________________________________\n",
            "layer2 (Dense)               (None, 20)                5020      \n",
            "_________________________________________________________________\n",
            "layer3 (Dense)               (None, 64)                1344      \n",
            "_________________________________________________________________\n",
            "output_layer (Dense)         (None, 10)                650       \n",
            "=================================================================\n",
            "Total params: 10,284\n",
            "Trainable params: 10,284\n",
            "Non-trainable params: 0\n",
            "_________________________________________________________________\n"
          ],
          "name": "stdout"
        }
      ]
    },
    {
      "cell_type": "code",
      "metadata": {
        "id": "w_5GQIQct3pT"
      },
      "source": [
        "#!pip install keras-lr-multiplier\n",
        "#from keras_lr_multiplier import LRMultiplier\n"
      ],
      "execution_count": null,
      "outputs": []
    },
    {
      "cell_type": "code",
      "metadata": {
        "id": "Ox1GWbQZD555"
      },
      "source": [
        "model3.compile(optimizer=tf.keras.optimizers.Adam(learning_rate=1e-5) ,\n",
        "              loss='categorical_crossentropy',\n",
        "              metrics=['accuracy'])"
      ],
      "execution_count": 42,
      "outputs": []
    },
    {
      "cell_type": "code",
      "metadata": {
        "id": "_bbM1cx9EYd2",
        "outputId": "61a0fe9e-e90a-4be2-c404-4912bc58114e",
        "colab": {
          "base_uri": "https://localhost:8080/",
          "height": 51
        }
      },
      "source": [
        "print(baseline_dataset.shape)\n",
        "print(baseline_labels.shape)"
      ],
      "execution_count": 43,
      "outputs": [
        {
          "output_type": "stream",
          "text": [
            "(500, 32, 32, 3)\n",
            "(500, 10)\n"
          ],
          "name": "stdout"
        }
      ]
    },
    {
      "cell_type": "code",
      "metadata": {
        "id": "ktdbzaQkFAFm",
        "outputId": "f7314926-421c-4c24-ab44-53764dadc077",
        "colab": {
          "base_uri": "https://localhost:8080/",
          "height": 51
        }
      },
      "source": [
        "print(baseline_dataset_test.shape)\n",
        "print(baseline_labels_test.shape)"
      ],
      "execution_count": 44,
      "outputs": [
        {
          "output_type": "stream",
          "text": [
            "(10000, 32, 32, 3)\n",
            "(10000, 10)\n"
          ],
          "name": "stdout"
        }
      ]
    },
    {
      "cell_type": "code",
      "metadata": {
        "id": "RmJlp3cIFieO",
        "outputId": "f4b6eefb-a052-4368-ef83-e1d828f8dd0c",
        "colab": {
          "base_uri": "https://localhost:8080/",
          "height": 292
        }
      },
      "source": [
        "#Training this new transfer learning model with low learning rate as pre-trained weights would already be mostly trained. So we need to set the learning rate to be a bit small\n",
        "history_model3=model3.fit(baseline_dataset,baseline_labels,epochs=10000,\n",
        "                          validation_data=(baseline_dataset_test, baseline_labels_test),\n",
        "                          shuffle=True,validation_freq=100)"
      ],
      "execution_count": 45,
      "outputs": [
        {
          "output_type": "stream",
          "text": [
            "16/16 [==============================] - 0s 3ms/step - loss: 2.4080e-08 - accuracy: 1.0000\n",
            "Epoch 9994/10000\n",
            "16/16 [==============================] - 0s 3ms/step - loss: 2.3127e-08 - accuracy: 1.0000\n",
            "Epoch 9995/10000\n",
            "16/16 [==============================] - 0s 3ms/step - loss: 2.3603e-08 - accuracy: 1.0000\n",
            "Epoch 9996/10000\n",
            "16/16 [==============================] - 0s 3ms/step - loss: 2.1696e-08 - accuracy: 1.0000\n",
            "Epoch 9997/10000\n",
            "16/16 [==============================] - 0s 3ms/step - loss: 2.4080e-08 - accuracy: 1.0000\n",
            "Epoch 9998/10000\n",
            "16/16 [==============================] - 0s 3ms/step - loss: 2.2888e-08 - accuracy: 1.0000\n",
            "Epoch 9999/10000\n",
            "16/16 [==============================] - 0s 3ms/step - loss: 2.4796e-08 - accuracy: 1.0000\n",
            "Epoch 10000/10000\n",
            "16/16 [==============================] - 1s 43ms/step - loss: 2.2888e-08 - accuracy: 1.0000 - val_loss: 18.7260 - val_accuracy: 0.3396\n"
          ],
          "name": "stdout"
        }
      ]
    },
    {
      "cell_type": "code",
      "metadata": {
        "id": "JKmKOjpCRpoM"
      },
      "source": [
        "#Saving the model\n",
        "model3.save(\"/content/drive/My Drive/transferlearning.h5\")"
      ],
      "execution_count": 54,
      "outputs": []
    },
    {
      "cell_type": "code",
      "metadata": {
        "id": "WSU8W-1MNsij",
        "outputId": "65708cbe-26f8-45ec-e02d-bbb56b4c21c9",
        "colab": {
          "base_uri": "https://localhost:8080/",
          "height": 355
        }
      },
      "source": [
        "fig = plt.figure(figsize=(10,5))\n",
        "plt.plot(history_model3.history['val_accuracy'], label='Transfer Learning')\n",
        "plt.plot(history_baseline.history['val_accuracy'], label = 'Baseline')\n",
        "plt.xlabel('Epoch')\n",
        "plt.ylabel('Validation Accuracy')\n",
        "plt.xticks(np.arange(0, 120, step=20),labels=(100,2000,4000,6000,8000,10000))\n",
        "plt.ylim([0, 0.4])\n",
        "plt.legend(['Transfer Learning', 'Baseline'], loc='center right')\n",
        "#plt.legend(loc='lower right')\n",
        "\n"
      ],
      "execution_count": 63,
      "outputs": [
        {
          "output_type": "execute_result",
          "data": {
            "text/plain": [
              "<matplotlib.legend.Legend at 0x7fde6b1b2a90>"
            ]
          },
          "metadata": {
            "tags": []
          },
          "execution_count": 63
        },
        {
          "output_type": "display_data",
          "data": {
            "image/png": "[encoded data removed]",
            "text/plain": [
              "<Figure size 720x360 with 1 Axes>"
            ]
          },
          "metadata": {
            "tags": [],
            "needs_background": "light"
          }
        }
      ]
    },
    {
      "cell_type": "code",
      "metadata": {
        "id": "ztMcAlDknoxE"
      },
      "source": [
        ""
      ],
      "execution_count": null,
      "outputs": []
    }
  ]
}