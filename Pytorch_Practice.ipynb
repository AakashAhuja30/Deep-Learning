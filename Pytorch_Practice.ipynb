{
  "nbformat": 4,
  "nbformat_minor": 0,
  "metadata": {
    "colab": {
      "name": "Pytorch Practice.ipynb",
      "provenance": [],
      "authorship_tag": "ABX9TyPuwAJl3vWrn+Oo1+pnQzJB",
      "include_colab_link": true
    },
    "kernelspec": {
      "name": "python3",
      "display_name": "Python 3"
    },
    "accelerator": "GPU"
  },
  "cells": [
    {
      "cell_type": "markdown",
      "metadata": {
        "id": "view-in-github",
        "colab_type": "text"
      },
      "source": [
        "<a href=\"https://colab.research.google.com/github/AakashAhuja30/Deep-Learning/blob/master/Pytorch_Practice.ipynb\" target=\"_parent\"><img src=\"https://colab.research.google.com/assets/colab-badge.svg\" alt=\"Open In Colab\"/></a>"
      ]
    },
    {
      "cell_type": "code",
      "metadata": {
        "id": "gslJUsjcZIgx"
      },
      "source": [
        "import torch\n",
        "import numpy as np\n",
        "import time\n",
        "import matplotlib.pyplot as plt"
      ],
      "execution_count": 3,
      "outputs": []
    },
    {
      "cell_type": "code",
      "metadata": {
        "id": "8NkCTkYJcvll"
      },
      "source": [
        "Nlist=[5,1000,3000]\n",
        "T=10\n",
        "timeDiffNP=np.zeros((T,len(Nlist)),dtype=np.float32)\n",
        "timeDiffTF=np.zeros((T,len(Nlist)),dtype=np.float32)\n",
        "\n"
      ],
      "execution_count": 4,
      "outputs": []
    },
    {
      "cell_type": "code",
      "metadata": {
        "id": "uhXJupLZgyfe"
      },
      "source": [
        "for N in range(len(Nlist)):\n",
        "  A=np.random.rand(Nlist[N],Nlist[N])\n",
        "  Apt=torch.randn(Nlist[N],Nlist[N]).cuda()\n",
        "\n",
        "  for i in range(T):\n",
        "    ticnp=time.time()\n",
        "    B=A@A@A@A@A\n",
        "    tocnp=time.time()\n",
        "\n",
        "    ticpt=time.time()\n",
        "    B=Apt@Apt@Apt@Apt@Apt\n",
        "    tocpt=time.time()\n",
        "\n",
        "    timeDiffNP[i,N]=tocnp-ticnp\n",
        "    timeDiffTF[i,N]=tocpt-ticpt\n"
      ],
      "execution_count": 7,
      "outputs": []
    },
    {
      "cell_type": "code",
      "metadata": {
        "id": "gqRvS70Oi_Ci",
        "outputId": "5b3e058d-146e-442d-c789-c5d3535bacdf",
        "colab": {
          "base_uri": "https://localhost:8080/",
          "height": 119
        }
      },
      "source": [
        "for N in range(len(Nlist)):\n",
        "    print('{0}X{0}: {1:f}'.format(Nlist[N], np.mean(timeDiffNP[:, N], axis=0)))\n",
        "    print('{0}X{0}: {1:f}'.format(Nlist[N], np.mean(timeDiffTF[:, N], axis=0)))"
      ],
      "execution_count": 8,
      "outputs": [
        {
          "output_type": "stream",
          "text": [
            "5X5: 0.000024\n",
            "5X5: 0.000175\n",
            "1000X1000: 0.226870\n",
            "1000X1000: 0.000438\n",
            "3000X3000: 5.912631\n",
            "3000X3000: 0.000457\n"
          ],
          "name": "stdout"
        }
      ]
    },
    {
      "cell_type": "markdown",
      "metadata": {
        "id": "xmSeUC9WlSjm"
      },
      "source": [
        "Creating the Data"
      ]
    },
    {
      "cell_type": "code",
      "metadata": {
        "id": "lp6it7kSjcju",
        "outputId": "69718e90-9efe-4691-8bba-c23a41f855c2",
        "colab": {
          "base_uri": "https://localhost:8080/",
          "height": 479
        }
      },
      "source": [
        "r=8\n",
        "w1=np.zeros((21,21))\n",
        "x1=np.array([np.arange(21)]).T\n",
        "x2=np.array([np.arange(21)])\n",
        "X1, X2=np.meshgrid(x1,x2)\n",
        "R=(X1-10)**2+(X2-10)**2\n",
        "x1c, x2c=np.where(np.all([[R<(r+.5)**2],[R>(r-.5)**2]], axis=0).squeeze())\n",
        "w1[x1c, x2c]=1\n",
        "# plt.figure()\n",
        "# plt.imshow(w1)\n",
        "# plt.close()\n",
        "r=6\n",
        "w2=np.zeros((21,21))\n",
        "R=(X1-10)**2+(X2-10)**2\n",
        "x1c, x2c=np.where(np.all([[R<(r+.5)**2],[R>(r-.5)**2]], axis=0).squeeze())\n",
        "w2[x1c, x2c]=1\n",
        "# plt.figure()\n",
        "# plt.imshow(w2)\n",
        "# plt.close()\n",
        "r=8\n",
        "w3=np.zeros((21,21))\n",
        "w3[2*np.ones((1,17),dtype=np.int8), 2:19]=1\n",
        "w3[18*np.ones((1,17),dtype=np.int8), 2:19]=1\n",
        "w3[2:19 ,2*np.ones((1,17),dtype=np.int8)]=1\n",
        "w3[2:19 ,18*np.ones((1,17),dtype=np.int8)]=1\n",
        "# plt.imshow(w3)\n",
        "r=6\n",
        "w4=np.zeros((21,21))\n",
        "w4[4*np.ones((1,13),dtype=np.int8), 4:17]=1\n",
        "w4[16*np.ones((1,13),dtype=np.int8), 4:17]=1\n",
        "w4[4:17, 4*np.ones((1,13),dtype=np.int8)]=1\n",
        "w4[4:17, 16*np.ones((1,13),dtype=np.int8)]=1\n",
        "# plt.imshow(w4)\n",
        "w5=np.zeros((21,21))\n",
        "w5[[8,8], [8,12]]=1;\n",
        "# plt.imshow(w5)\n",
        "w6=np.zeros((21,21))\n",
        "w6[9:11, [10,10]]=1;\n",
        "# plt.imshow(w6)\n",
        "w7=np.zeros((21,21))\n",
        "w7[[13,14,14,14,13], [8,9,10,11,12]]=1;\n",
        "# plt.imshow(w7)\n",
        "w8=np.zeros((21,21))\n",
        "w8[[14,13,13,13,14], [8,9,10,11,12]]=1;\n",
        "# plt.imshow(w7)\n",
        "w9=np.zeros((21,21))\n",
        "w9[[14,13,14,13,14], [8,9,10,11,12]]=1;\n",
        "\n",
        "\n",
        "\n",
        "# plt.imshow(w1+w5+w6+w8)\n",
        "# w1, w2, w3, w4\n",
        "# w5, w6\n",
        "# w7\n",
        "# w8\n",
        "X=np.zeros((12,21*21))\n",
        "X[0,:]=(w1+w5+w6+w7).reshape((1,21*21))\n",
        "X[1,:]=(w2+w5+w6+w7).reshape((1,21*21))\n",
        "X[2,:]=(w3+w5+w6+w7).reshape((1,21*21))\n",
        "X[3,:]=(w4+w5+w6+w7).reshape((1,21*21))\n",
        "X[4,:]=(w1+w5+w6+w8).reshape((1,21*21))\n",
        "X[5,:]=(w2+w5+w6+w8).reshape((1,21*21))\n",
        "X[6,:]=(w3+w5+w6+w8).reshape((1,21*21))\n",
        "X[7,:]=(w4+w5+w6+w8).reshape((1,21*21))\n",
        "X[8,:]=(w1+w5+w6+w9).reshape((1,21*21))\n",
        "X[9,:]=(w2+w5+w6+w9).reshape((1,21*21))\n",
        "X[10,:]=(w3+w5+w6+w9).reshape((1,21*21))\n",
        "X[11,:]=(w4+w5+w6+w9).reshape((1,21*21))\n",
        "X=X.T\n",
        "\n",
        "\n",
        "W=np.zeros((9,21*21))\n",
        "W[0,:]=w1.reshape((1,21*21))\n",
        "W[1,:]=w2.reshape((1,21*21))\n",
        "W[2,:]=w3.reshape((1,21*21))\n",
        "W[3,:]=w4.reshape((1,21*21))\n",
        "W[4,:]=w5.reshape((1,21*21))\n",
        "W[5,:]=w6.reshape((1,21*21))\n",
        "W[6,:]=w7.reshape((1,21*21))\n",
        "W[7,:]=w8.reshape((1,21*21))\n",
        "W[8,:]=w9.reshape((1,21*21))\n",
        "W=W.T\n",
        "\n",
        "# \n",
        "# %matplotlib inline\n",
        "plt.figure()\n",
        "for i in range(3):\n",
        "  for j in range(4):\n",
        "    ax=plt.subplot2grid((3, 4), (i, j))\n",
        "    ax.imshow(X[:,i*4+j].reshape((21,21)))\n",
        "    plt.axis('off')\n",
        "\n",
        "plt.figure()\n",
        "for i in range(3):\n",
        "  for j in range(3):\n",
        "    ax=plt.subplot2grid((3, 3), (i, j))\n",
        "    ax.imshow(W[:,i*3+j].reshape((21,21)))\n",
        "    plt.axis('off')\n",
        "\n"
      ],
      "execution_count": 9,
      "outputs": [
        {
          "output_type": "display_data",
          "data": {
            "image/png": "[encoded data removed]",
            "text/plain": [
              "<Figure size 432x288 with 12 Axes>"
            ]
          },
          "metadata": {
            "tags": [],
            "needs_background": "light"
          }
        },
        {
          "output_type": "display_data",
          "data": {
            "image/png": "[encoded data removed]",
            "text/plain": [
              "<Figure size 432x288 with 9 Axes>"
            ]
          },
          "metadata": {
            "tags": [],
            "needs_background": "light"
          }
        }
      ]
    },
    {
      "cell_type": "code",
      "metadata": {
        "id": "q57jLptRlUFh",
        "outputId": "9fed94d9-fb9e-441d-bbe1-9451fdc86386",
        "colab": {
          "base_uri": "https://localhost:8080/",
          "height": 265
        }
      },
      "source": [
        "H=W.T@X\n",
        "plt.figure()\n",
        "plt.imshow(H)\n",
        "plt.grid(False)"
      ],
      "execution_count": 10,
      "outputs": [
        {
          "output_type": "display_data",
          "data": {
            "image/png": "[encoded data removed]",
            "text/plain": [
              "<Figure size 432x288 with 1 Axes>"
            ]
          },
          "metadata": {
            "tags": [],
            "needs_background": "light"
          }
        }
      ]
    },
    {
      "cell_type": "code",
      "metadata": {
        "id": "kXJarLA0lhET"
      },
      "source": [
        ""
      ],
      "execution_count": 13,
      "outputs": []
    },
    {
      "cell_type": "code",
      "metadata": {
        "id": "YuNsi0N7liKv"
      },
      "source": [
        ""
      ],
      "execution_count": null,
      "outputs": []
    },
    {
      "cell_type": "code",
      "metadata": {
        "id": "hqW38LGWlywK"
      },
      "source": [
        "lr=0.0001\n",
        "y=torch.tensor([[1,1,1,1,0,0,0,0,0,0,0,0],[0,0,0,0,1,1,1,1,0,0,0,0],[0,0,0,0,0,0,0,0,1,1,1,1]],\n",
        "               dtype=torch.float, \n",
        "               requires_grad=False,\n",
        "               device=torch.device('cuda:0'))\n",
        "\n",
        "H = torch.FloatTensor(W.T@X).cuda()\n",
        "W2=torch.randn((3,9),dtype=torch.float,\n",
        "               requires_grad=True,\n",
        "               device=torch.device('cuda:0'))\n",
        "W2.data=W2.data * 0.001\n",
        "maxItr=200\n",
        "errt=np.zeros(maxItr,dtype=float)\n",
        "\n",
        "for i in range(maxItr):\n",
        "  Yh=W2@H\n",
        "  err= torch.sum(-y*torch.log(torch.exp(Yh)/ torch.sum(torch.exp(Yh),dim=0,keepdim=True)))\n",
        "  errt[i]=err.detach().cpu().numpy()\n",
        "  err.backward(retain_graph=True)\n",
        "  W2.data=W2.data-lr*W2.grad.data"
      ],
      "execution_count": 14,
      "outputs": []
    },
    {
      "cell_type": "code",
      "metadata": {
        "id": "XZXZkk4dttgP",
        "outputId": "c779fdcb-6f63-4cbb-9eb4-71144a1afecc",
        "colab": {
          "base_uri": "https://localhost:8080/",
          "height": 265
        }
      },
      "source": [
        "plt.figure()\n",
        "plt.plot(errt)\n",
        "plt.show()"
      ],
      "execution_count": 15,
      "outputs": [
        {
          "output_type": "display_data",
          "data": {
            "image/png": "[encoded data removed]",
            "text/plain": [
              "<Figure size 432x288 with 1 Axes>"
            ]
          },
          "metadata": {
            "tags": [],
            "needs_background": "light"
          }
        }
      ]
    },
    {
      "cell_type": "code",
      "metadata": {
        "id": "YajpWiDNt1Rl"
      },
      "source": [
        ""
      ],
      "execution_count": null,
      "outputs": []
    }
  ]
}