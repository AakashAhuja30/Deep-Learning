{
  "nbformat": 4,
  "nbformat_minor": 0,
  "metadata": {
    "colab": {
      "name": "Untitled0.ipynb",
      "provenance": [],
      "authorship_tag": "ABX9TyMRChu1NXsMFleq9n3pqkCH",
      "include_colab_link": true
    },
    "kernelspec": {
      "name": "python3",
      "display_name": "Python 3"
    }
  },
  "cells": [
    {
      "cell_type": "markdown",
      "metadata": {
        "id": "view-in-github",
        "colab_type": "text"
      },
      "source": [
        "<a href=\"https://colab.research.google.com/github/AakashAhuja30/Deep-Learning/blob/master/TensorflowDemo.ipynb\" target=\"_parent\"><img src=\"https://colab.research.google.com/assets/colab-badge.svg\" alt=\"Open In Colab\"/></a>"
      ]
    },
    {
      "cell_type": "code",
      "metadata": {
        "id": "RIxRhAHru2hk"
      },
      "source": [
        "import tensorflow as tf\n",
        "import numpy as np\n",
        "import time\n",
        "import matplotlib.pyplot as plt\n",
        "plt.style.use('default')"
      ],
      "execution_count": 2,
      "outputs": []
    },
    {
      "cell_type": "code",
      "metadata": {
        "id": "rUoD9g_Ju7bV"
      },
      "source": [
        "tf.compat.v1.disable_eager_execution()"
      ],
      "execution_count": 30,
      "outputs": []
    },
    {
      "cell_type": "code",
      "metadata": {
        "id": "_q4IvTvHvCRw",
        "outputId": "e5531c59-e2e1-44b4-bb5f-41629ce25668",
        "colab": {
          "base_uri": "https://localhost:8080/",
          "height": 119
        }
      },
      "source": [
        "Nlist=[5,1000,3000]\n",
        "T=10 #Repeat experiments 10 times\n",
        "timeDiffNP= np.zeros((T,len(Nlist)),dtype=np.float32)\n",
        "timeDiffTF=np.zeros((T,len(Nlist)), dtype=np.float32)\n",
        "\n",
        "sess = tf.compat.v1.Session()\n",
        "\n",
        "for N in range(len(Nlist)):\n",
        "  A=np.random.rand(Nlist[N],Nlist[N])\n",
        "  Atf=tf.constant(A)\n",
        "  Btf=Atf@Atf@Atf@Atf@Atf\n",
        "  for i in range(T):\n",
        "    tickNP=time.time()\n",
        "    B=A@A@A@A@A\n",
        "    tocNP=time.time()\n",
        "    \n",
        "    ticTF=time.time()\n",
        "    sess.run(Btf)\n",
        "    tocTF=time.time()\n",
        "\n",
        "    timeDiffNP[i,N]=tocNP-tickNP\n",
        "    timeDiffTF[i,N]=tocTF-ticTF\n",
        "\n",
        "  print('CPU(numpy): {0}X{0}:{1:f}'.format(Nlist[N],np.mean(timeDiffNP[N,:])))\n",
        "  print('GPU(TF): {0}X{0}:{1:f}'.format(Nlist[N],np.mean(timeDiffTF[N,:])))\n",
        "\n",
        "sess.close()\n",
        "\n"
      ],
      "execution_count": 4,
      "outputs": [
        {
          "output_type": "stream",
          "text": [
            "CPU(numpy): 5X5:0.001518\n",
            "GPU(TF): 5X5:0.039038\n",
            "CPU(numpy): 1000X1000:0.082816\n",
            "GPU(TF): 1000X1000:0.001149\n",
            "CPU(numpy): 3000X3000:2.228309\n",
            "GPU(TF): 3000X3000:0.009513\n"
          ],
          "name": "stdout"
        }
      ]
    },
    {
      "cell_type": "code",
      "metadata": {
        "id": "CUepK5l5vDgn"
      },
      "source": [
        "y=np.array([[1,1,1,1,0,0,0,0,0,0,0,0],[0,0,0,0,1,1,1,1,0,0,0,0],[0,0,0,0,0,0,0,0,1,1,1,1]])"
      ],
      "execution_count": 5,
      "outputs": []
    },
    {
      "cell_type": "code",
      "metadata": {
        "id": "vjaufOeVvLio",
        "outputId": "7aa76b68-2aa3-4431-e21a-41e76b513914",
        "colab": {
          "base_uri": "https://localhost:8080/",
          "height": 794
        }
      },
      "source": [
        "r=8\n",
        "w1=np.zeros((21,21))\n",
        "x1=np.array([np.arange(21)]).T\n",
        "x2=np.array([np.arange(21)])\n",
        "X1, X2=np.meshgrid(x1,x2)\n",
        "R=(X1-10)**2+(X2-10)**2\n",
        "x1c, x2c=np.where(np.all([[R<(r+.5)**2],[R>(r-.5)**2]], axis=0).squeeze())\n",
        "w1[x1c, x2c]=1\n",
        "# plt.figure()\n",
        "# plt.imshow(w1)\n",
        "# plt.close()\n",
        "r=6\n",
        "w2=np.zeros((21,21))\n",
        "R=(X1-10)**2+(X2-10)**2\n",
        "x1c, x2c=np.where(np.all([[R<(r+.5)**2],[R>(r-.5)**2]], axis=0).squeeze())\n",
        "w2[x1c, x2c]=1\n",
        "# plt.figure()\n",
        "# plt.imshow(w2)\n",
        "# plt.close()\n",
        "r=8\n",
        "w3=np.zeros((21,21))\n",
        "w3[2*np.ones((1,17),dtype=np.int8), 2:19]=1\n",
        "w3[18*np.ones((1,17),dtype=np.int8), 2:19]=1\n",
        "w3[2:19 ,2*np.ones((1,17),dtype=np.int8)]=1\n",
        "w3[2:19 ,18*np.ones((1,17),dtype=np.int8)]=1\n",
        "# plt.imshow(w3)\n",
        "r=6\n",
        "w4=np.zeros((21,21))\n",
        "w4[4*np.ones((1,13),dtype=np.int8), 4:17]=1\n",
        "w4[16*np.ones((1,13),dtype=np.int8), 4:17]=1\n",
        "w4[4:17, 4*np.ones((1,13),dtype=np.int8)]=1\n",
        "w4[4:17, 16*np.ones((1,13),dtype=np.int8)]=1\n",
        "# plt.imshow(w4)\n",
        "w5=np.zeros((21,21))\n",
        "w5[[8,8], [8,12]]=1;\n",
        "# plt.imshow(w5)\n",
        "w6=np.zeros((21,21))\n",
        "w6[9:11, [10,10]]=1;\n",
        "# plt.imshow(w6)\n",
        "w7=np.zeros((21,21))\n",
        "w7[[13,14,14,14,13], [8,9,10,11,12]]=1;\n",
        "# plt.imshow(w7)\n",
        "w8=np.zeros((21,21))\n",
        "w8[[14,13,13,13,14], [8,9,10,11,12]]=1;\n",
        "# plt.imshow(w7)\n",
        "w9=np.zeros((21,21))\n",
        "w9[[14,13,14,13,14], [8,9,10,11,12]]=1;\n",
        "\n",
        "\n",
        "\n",
        "# plt.imshow(w1+w5+w6+w8)\n",
        "# w1, w2, w3, w4\n",
        "# w5, w6\n",
        "# w7\n",
        "# w8\n",
        "X=np.zeros((12,21*21))\n",
        "X[0,:]=(w1+w5+w6+w7).reshape((1,21*21))\n",
        "X[1,:]=(w2+w5+w6+w7).reshape((1,21*21))\n",
        "X[2,:]=(w3+w5+w6+w7).reshape((1,21*21))\n",
        "X[3,:]=(w4+w5+w6+w7).reshape((1,21*21))\n",
        "X[4,:]=(w1+w5+w6+w8).reshape((1,21*21))\n",
        "X[5,:]=(w2+w5+w6+w8).reshape((1,21*21))\n",
        "X[6,:]=(w3+w5+w6+w8).reshape((1,21*21))\n",
        "X[7,:]=(w4+w5+w6+w8).reshape((1,21*21))\n",
        "X[8,:]=(w1+w5+w6+w9).reshape((1,21*21))\n",
        "X[9,:]=(w2+w5+w6+w9).reshape((1,21*21))\n",
        "X[10,:]=(w3+w5+w6+w9).reshape((1,21*21))\n",
        "X[11,:]=(w4+w5+w6+w9).reshape((1,21*21))\n",
        "X=X.T\n",
        "\n",
        "\n",
        "W=np.zeros((9,21*21))\n",
        "W[0,:]=w1.reshape((1,21*21))\n",
        "W[1,:]=w2.reshape((1,21*21))\n",
        "W[2,:]=w3.reshape((1,21*21))\n",
        "W[3,:]=w4.reshape((1,21*21))\n",
        "W[4,:]=w5.reshape((1,21*21))\n",
        "W[5,:]=w6.reshape((1,21*21))\n",
        "W[6,:]=w7.reshape((1,21*21))\n",
        "W[7,:]=w8.reshape((1,21*21))\n",
        "W[8,:]=w9.reshape((1,21*21))\n",
        "W=W.T\n",
        "\n",
        "# \n",
        "# %matplotlib inline\n",
        "plt.figure()\n",
        "for i in range(3):\n",
        "  for j in range(4):\n",
        "    ax=plt.subplot2grid((3, 4), (i, j))\n",
        "    ax.imshow(X[:,i*4+j].reshape((21,21)))\n",
        "    plt.axis('off')\n",
        "\n",
        "plt.figure()\n",
        "for i in range(3):\n",
        "  for j in range(3):\n",
        "    ax=plt.subplot2grid((3, 3), (i, j))\n",
        "    ax.imshow(W[:,i*3+j].reshape((21,21)))\n",
        "    plt.axis('off')\n",
        "\n"
      ],
      "execution_count": 6,
      "outputs": [
        {
          "output_type": "display_data",
          "data": {
            "image/png": "[encoded data removed]",
            "text/plain": [
              "<Figure size 640x480 with 12 Axes>"
            ]
          },
          "metadata": {
            "tags": []
          }
        },
        {
          "output_type": "display_data",
          "data": {
            "image/png": "[encoded data removed]",
            "text/plain": [
              "<Figure size 640x480 with 9 Axes>"
            ]
          },
          "metadata": {
            "tags": []
          }
        }
      ]
    },
    {
      "cell_type": "code",
      "metadata": {
        "id": "s_LXBRvvzPXi",
        "outputId": "5424a851-3d9d-4a17-e528-b22fa4e55e73",
        "colab": {
          "base_uri": "https://localhost:8080/",
          "height": 447
        }
      },
      "source": [
        "H=W.T@X\n",
        "plt.figure()\n",
        "plt.imshow(H)"
      ],
      "execution_count": 7,
      "outputs": [
        {
          "output_type": "execute_result",
          "data": {
            "text/plain": [
              "<matplotlib.image.AxesImage at 0x7f0a8c436160>"
            ]
          },
          "metadata": {
            "tags": []
          },
          "execution_count": 7
        },
        {
          "output_type": "display_data",
          "data": {
            "image/png": "[encoded data removed]",
            "text/plain": [
              "<Figure size 640x480 with 1 Axes>"
            ]
          },
          "metadata": {
            "tags": []
          }
        }
      ]
    },
    {
      "cell_type": "code",
      "metadata": {
        "id": "jkw6Xk14zSYw"
      },
      "source": [
        "W2=np.linalg.pinv(H@H.T)@H@y.T"
      ],
      "execution_count": 8,
      "outputs": []
    },
    {
      "cell_type": "code",
      "metadata": {
        "id": "7yCGjNPIzXFR"
      },
      "source": [
        "W2=(np.random.rand(3,9) -0.5) * 0.01\n",
        "y=np.array([[1,1,1,1,0,0,0,0,0,0,0,0],[0,0,0,0,1,1,1,1,0,0,0,0],[0,0,0,0,0,0,0,0,1,1,1,1]])\n"
      ],
      "execution_count": 13,
      "outputs": []
    },
    {
      "cell_type": "code",
      "metadata": {
        "id": "Gcbwux2pzZmu",
        "outputId": "c1563b0c-b118-45c4-85c7-297a3844002f",
        "colab": {
          "base_uri": "https://localhost:8080/",
          "height": 1000
        }
      },
      "source": [
        "def softmax(x):\n",
        "  return np.exp(x)/np.sum(np.exp(x), axis=0, keepdims=True)\n",
        "\n",
        "N=5000\n",
        "error=np.zeros(N)\n",
        "lr=0.0003\n",
        "\n",
        "for i in range(N):\n",
        "  z=W2@H\n",
        "  yh=softmax(z)\n",
        "  error[i]=np.sum(-y*np.log(yh))\n",
        "  dw2= - (yh-y)@H.T\n",
        "  W2+= dw2 * lr\n",
        "\n",
        "plt.figure()\n",
        "plt.plot(error)\n",
        "plt.show()\n",
        "\n",
        "plt.figure()\n",
        "plt.imshow(W2)\n",
        "plt.colorbar()\n",
        "\n",
        "plt.figure()\n",
        "plt.imshow(yh)\n",
        "plt.colorbar()\n"
      ],
      "execution_count": 14,
      "outputs": [
        {
          "output_type": "display_data",
          "data": {
            "image/png": "[encoded data removed]",
            "text/plain": [
              "<Figure size 640x480 with 1 Axes>"
            ]
          },
          "metadata": {
            "tags": []
          }
        },
        {
          "output_type": "execute_result",
          "data": {
            "text/plain": [
              "<matplotlib.colorbar.Colorbar at 0x7f0a8bdc6be0>"
            ]
          },
          "metadata": {
            "tags": []
          },
          "execution_count": 14
        },
        {
          "output_type": "display_data",
          "data": {
            "image/png": "[encoded data removed]",
            "text/plain": [
              "<Figure size 640x480 with 2 Axes>"
            ]
          },
          "metadata": {
            "tags": []
          }
        },
        {
          "output_type": "display_data",
          "data": {
            "image/png": "[encoded data removed]",
            "text/plain": [
              "<Figure size 640x480 with 2 Axes>"
            ]
          },
          "metadata": {
            "tags": []
          }
        }
      ]
    },
    {
      "cell_type": "code",
      "metadata": {
        "id": "zG0UGA4X0KFb",
        "outputId": "d4dc41a8-96c2-43dc-f772-aa6fe42bd926",
        "colab": {
          "base_uri": "https://localhost:8080/",
          "height": 272
        }
      },
      "source": [
        "LOG_DIR = '/tmp/log'\n",
        "get_ipython().system_raw(\n",
        "    'tensorboard --logdir {} --host 0.0.0.0 --port 6006 &'\n",
        "    .format(LOG_DIR)\n",
        ")\n",
        "\n",
        "\n",
        "! wget https://bin.equinox.io/c/4VmDzA7iaHb/ngrok-stable-linux-amd64.zip\n",
        "! unzip ngrok-stable-linux-amd64.zip\n",
        "\n",
        "get_ipython().system_raw('./ngrok http 6006 &')\n",
        "\n",
        "! curl -s http://localhost:4040/api/tunnels | python3 -c \"import sys, json; print(json.load(sys.stdin)['tunnels'][0]['public_url'])\"\n",
        "\n",
        "#%load_ext tensorboard\n",
        "#%tensorboard --logdir logs"
      ],
      "execution_count": 44,
      "outputs": [
        {
          "output_type": "stream",
          "text": [
            "--2020-10-01 22:33:23--  https://bin.equinox.io/c/4VmDzA7iaHb/ngrok-stable-linux-amd64.zip\n",
            "Resolving bin.equinox.io (bin.equinox.io)... 52.71.209.190, 52.72.152.212, 34.198.20.103, ...\n",
            "Connecting to bin.equinox.io (bin.equinox.io)|52.71.209.190|:443... connected.\n",
            "HTTP request sent, awaiting response... 200 OK\n",
            "Length: 13773305 (13M) [application/octet-stream]\n",
            "Saving to: ‘ngrok-stable-linux-amd64.zip.4’\n",
            "\n",
            "ngrok-stable-linux- 100%[===================>]  13.13M  17.2MB/s    in 0.8s    \n",
            "\n",
            "2020-10-01 22:33:24 (17.2 MB/s) - ‘ngrok-stable-linux-amd64.zip.4’ saved [13773305/13773305]\n",
            "\n",
            "Archive:  ngrok-stable-linux-amd64.zip\n",
            "replace ngrok? [y]es, [n]o, [A]ll, [N]one, [r]ename: A\n",
            "  inflating: ngrok                   \n",
            "http://d5030e5be517.ngrok.io\n"
          ],
          "name": "stdout"
        }
      ]
    },
    {
      "cell_type": "code",
      "metadata": {
        "id": "5fHO-Njs65Lf"
      },
      "source": [
        "import tensorflow as tf\n",
        "import tensorflow.compat.v1 as tfc"
      ],
      "execution_count": 45,
      "outputs": []
    },
    {
      "cell_type": "code",
      "metadata": {
        "id": "mvyKWYQmQhPG"
      },
      "source": [
        "y=np.array([[1,1,1,1,0,0,0,0,0,0,0,0],[0,0,0,0,1,1,1,1,0,0,0,0],[0,0,0,0,0,0,0,0,1,1,1,1]])\n",
        "lr=0.0003"
      ],
      "execution_count": 46,
      "outputs": []
    },
    {
      "cell_type": "code",
      "metadata": {
        "id": "iiooctopN4YH",
        "outputId": "94195bcb-4a31-41e1-8866-36c91d340a5b",
        "colab": {
          "base_uri": "https://localhost:8080/",
          "height": 71
        }
      },
      "source": [
        "sess=tfc.InteractiveSession()\n",
        "\n",
        "with tfc.name_scope('lastlayer'):\n",
        "  lr=tfc.constant(0.0003,dtype=tfc.float32,name='learningRate')\n",
        "  y=tfc.constant(np.array([[1,1,1,1,0,0,0,0,0,0,0,0],[0,0,0,0,1,1,1,1,0,0,0,0],[0,0,0,0,0,0,0,0,1,1,1,1]]),dtype=tfc.float32,name=\"target\")\n",
        "  H=tfc.constant(W.T@X, dtype=tfc.float32,name='input')\n",
        "  W2=tfc.Variable((tfc.random.uniform((3,9))-0.5)*0.001,name=\"Weights\")\n",
        "  with tfc.name_scope('output'):\n",
        "    yh=W2@H\n",
        "    err=tfc.reduce_sum(-y*tfc.log(tfc.exp(yh)/tfc.reduce_sum(tfc.exp(yh), 0, True)))\n",
        "    dw2= tfc.gradients(err,W2)\n",
        "    update=tfc.assign(W2,W2-lr*dw2[0])\n",
        "\n",
        "\n"
      ],
      "execution_count": 47,
      "outputs": [
        {
          "output_type": "stream",
          "text": [
            "/usr/local/lib/python3.6/dist-packages/tensorflow/python/client/session.py:1751: UserWarning: An interactive session is already active. This can cause out-of-memory errors in some cases. You must explicitly call `InteractiveSession.close()` to release resources held by the other session(s).\n",
            "  warnings.warn('An interactive session is already active. This can '\n"
          ],
          "name": "stderr"
        }
      ]
    },
    {
      "cell_type": "code",
      "metadata": {
        "id": "pZm9LI-uSn2m",
        "outputId": "5614aa66-967a-48ec-8a11-068772d2905b",
        "colab": {
          "base_uri": "https://localhost:8080/",
          "height": 430
        }
      },
      "source": [
        "tfc.global_variables_initializer().run()\n",
        "train_writer = tfc.summary.FileWriter(LOG_DIR, sess.graph)\n",
        "maxIter=3000\n",
        "errt=np.zeros(maxIter, dtype=np.float32)\n",
        "\n",
        "for i in range(maxIter):\n",
        "    errt[i], _=sess.run([err, update])\n",
        "    \n",
        "plt.figure()\n",
        "plt.plot(errt)\n",
        "plt.show()\n",
        "sess.close()"
      ],
      "execution_count": 48,
      "outputs": [
        {
          "output_type": "display_data",
          "data": {
            "image/png": "[encoded data removed]",
            "text/plain": [
              "<Figure size 640x480 with 1 Axes>"
            ]
          },
          "metadata": {
            "tags": []
          }
        }
      ]
    }
  ]
}