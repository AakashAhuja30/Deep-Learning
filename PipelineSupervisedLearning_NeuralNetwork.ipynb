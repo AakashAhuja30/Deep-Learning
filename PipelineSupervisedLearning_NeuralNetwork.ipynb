{
  "nbformat": 4,
  "nbformat_minor": 0,
  "metadata": {
    "colab": {
      "name": "PipelineSupervisedLearning_NeuralNetwork.ipynb",
      "provenance": [],
      "authorship_tag": "ABX9TyN/TcNDkjlGJYKdUcKhwkWn",
      "include_colab_link": true
    },
    "kernelspec": {
      "name": "python3",
      "display_name": "Python 3"
    },
    "accelerator": "GPU"
  },
  "cells": [
    {
      "cell_type": "markdown",
      "metadata": {
        "id": "view-in-github",
        "colab_type": "text"
      },
      "source": [
        "<a href=\"https://colab.research.google.com/github/AakashAhuja30/Deep-Learning/blob/master/PipelineSupervisedLearning_NeuralNetwork.ipynb\" target=\"_parent\"><img src=\"https://colab.research.google.com/assets/colab-badge.svg\" alt=\"Open In Colab\"/></a>"
      ]
    },
    {
      "cell_type": "markdown",
      "metadata": {
        "id": "oOjnui_nSHYk"
      },
      "source": [
        "# Shallow Neural Networks for classification with no pretraining but non linear hidden units"
      ]
    },
    {
      "cell_type": "markdown",
      "metadata": {
        "id": "5Uc2EsVNaJMl"
      },
      "source": [
        "## USING TENSORFLOW"
      ]
    },
    {
      "cell_type": "code",
      "metadata": {
        "id": "7ly2kz1uSgXP",
        "outputId": "4573f7c3-810f-4b80-96b6-39dde56affbc",
        "colab": {
          "base_uri": "https://localhost:8080/",
          "height": 88
        }
      },
      "source": [
        "import tensorflow as tf\n",
        "import numpy as np\n",
        "import time\n",
        "import matplotlib.pyplot as plt\n",
        "plt.style.use('default')\n",
        "\n",
        "import tensorflow.compat.v1 as tf\n",
        "tf.disable_v2_behavior() "
      ],
      "execution_count": 1,
      "outputs": [
        {
          "output_type": "stream",
          "text": [
            "WARNING:tensorflow:From /usr/local/lib/python3.6/dist-packages/tensorflow/python/compat/v2_compat.py:96: disable_resource_variables (from tensorflow.python.ops.variable_scope) is deprecated and will be removed in a future version.\n",
            "Instructions for updating:\n",
            "non-resource variables are not supported in the long term\n"
          ],
          "name": "stdout"
        }
      ]
    },
    {
      "cell_type": "markdown",
      "metadata": {
        "id": "UDXZ_Jm_T0AY"
      },
      "source": [
        "Creating the data"
      ]
    },
    {
      "cell_type": "code",
      "metadata": {
        "id": "NWi3_5paTyyj"
      },
      "source": [
        "r=8\n",
        "w1=np.zeros((21,21))\n",
        "x1=np.array([np.arange(21)]).T\n",
        "x2=np.array([np.arange(21)])\n",
        "X1, X2=np.meshgrid(x1,x2)\n",
        "R=(X1-10)**2+(X2-10)**2\n",
        "x1c, x2c=np.where(np.all([[R<(r+.5)**2],[R>(r-.5)**2]], axis=0).squeeze())\n",
        "w1[x1c, x2c]=1\n",
        "# plt.figure()\n",
        "# plt.imshow(w1)\n",
        "# plt.close()\n",
        "r=6\n",
        "w2=np.zeros((21,21))\n",
        "R=(X1-10)**2+(X2-10)**2\n",
        "x1c, x2c=np.where(np.all([[R<(r+.5)**2],[R>(r-.5)**2]], axis=0).squeeze())\n",
        "w2[x1c, x2c]=1\n",
        "# plt.figure()\n",
        "# plt.imshow(w2)\n",
        "# plt.close()\n",
        "r=8\n",
        "w3=np.zeros((21,21))\n",
        "w3[2*np.ones((1,17),dtype=np.int8), 2:19]=1\n",
        "w3[18*np.ones((1,17),dtype=np.int8), 2:19]=1\n",
        "w3[2:19 ,2*np.ones((1,17),dtype=np.int8)]=1\n",
        "w3[2:19 ,18*np.ones((1,17),dtype=np.int8)]=1\n",
        "# plt.imshow(w3)\n",
        "r=6\n",
        "w4=np.zeros((21,21))\n",
        "w4[4*np.ones((1,13),dtype=np.int8), 4:17]=1\n",
        "w4[16*np.ones((1,13),dtype=np.int8), 4:17]=1\n",
        "w4[4:17, 4*np.ones((1,13),dtype=np.int8)]=1\n",
        "w4[4:17, 16*np.ones((1,13),dtype=np.int8)]=1\n",
        "# plt.imshow(w4)\n",
        "w5=np.zeros((21,21))\n",
        "w5[[8,8], [8,12]]=1;\n",
        "# plt.imshow(w5)\n",
        "w6=np.zeros((21,21))\n",
        "w6[9:11, [10,10]]=1;\n",
        "# plt.imshow(w6)\n",
        "w7=np.zeros((21,21))\n",
        "w7[[13,14,14,14,13], [8,9,10,11,12]]=1;\n",
        "# plt.imshow(w7)\n",
        "w8=np.zeros((21,21))\n",
        "w8[[14,13,13,13,14], [8,9,10,11,12]]=1;\n",
        "# plt.imshow(w7)\n",
        "# plt.imshow(w1+w5+w6+w8)\n",
        "# w1, w2, w3, w4\n",
        "# w5, w6\n",
        "# w7\n",
        "# w8\n",
        "X=np.zeros((8,21*21))\n",
        "X[0,:]=(w1+w5+w6+w7).reshape((1,21*21))\n",
        "X[1,:]=(w2+w5+w6+w7).reshape((1,21*21))\n",
        "X[2,:]=(w3+w5+w6+w7).reshape((1,21*21))\n",
        "X[3,:]=(w4+w5+w6+w7).reshape((1,21*21))\n",
        "X[4,:]=(w1+w5+w6+w8).reshape((1,21*21))\n",
        "X[5,:]=(w2+w5+w6+w8).reshape((1,21*21))\n",
        "X[6,:]=(w3+w5+w6+w8).reshape((1,21*21))\n",
        "X[7,:]=(w4+w5+w6+w8).reshape((1,21*21))\n",
        "X=X.T\n",
        "\n",
        "W=np.zeros((8,21*21))\n",
        "W[0,:]=w1.reshape((1,21*21))\n",
        "W[1,:]=w2.reshape((1,21*21))\n",
        "W[2,:]=w3.reshape((1,21*21))\n",
        "W[3,:]=w4.reshape((1,21*21))\n",
        "W[4,:]=w5.reshape((1,21*21))\n",
        "W[5,:]=w6.reshape((1,21*21))\n",
        "W[6,:]=w7.reshape((1,21*21))\n",
        "W[7,:]=w8.reshape((1,21*21))\n",
        "W=W.T"
      ],
      "execution_count": 3,
      "outputs": []
    },
    {
      "cell_type": "code",
      "metadata": {
        "id": "NxYmhVMbSspQ",
        "outputId": "9e8e8947-f4db-4c57-c4c4-df6e0aaab9f7",
        "colab": {
          "base_uri": "https://localhost:8080/",
          "height": 71
        }
      },
      "source": [
        "x=tf.placeholder(tf.float32)\n",
        "Y=tf.placeholder(tf.float32)\n",
        "lr=tf.constant(0.0001)\n",
        "lam=tf.constant(2.0)\n",
        "We=tf.Variable((tf.random_uniform((8,21*21))-0.5)*0.001,dtype=tf.float32)\n",
        "be=tf.Variable((tf.random_uniform((8,1))-0.5)*0.001,dtype=tf.float32)\n",
        "W2=tf.Variable((tf.random_uniform((2,8))-0.5)*0.001,dtype=tf.float32)\n",
        "b2=tf.Variable((tf.random_uniform((2,1))-0.5)*0.001,dtype=tf.float32)\n",
        "\n",
        "Z=tf.nn.selu(We@X+be)\n",
        "Yh=W2@Z+b2\n",
        "loss=tf.reduce_sum(-Y*tf.log(tf.exp(Yh)/tf.reduce_sum(tf.exp(Yh),0,True)))\n",
        "#loss=tf.nn.softmax_cross_entropy_with_logits(labels=Y,logits=Yh)\n",
        "\n",
        "train_step=tf.train.AdamOptimizer(learning_rate=0.001).minimize(loss)\n",
        "\n",
        "sess=tf.InteractiveSession()\n",
        "tf.global_variables_initializer().run()\n",
        "maxitr=1000\n",
        "errt=np.zeros(maxitr)\n",
        "for i in range(maxitr):\n",
        "  errt[i],_=sess.run([loss,train_step],feed_dict={x:X,\n",
        "                                                  Y:np.array(\n",
        "                                                      [\n",
        "                                                       [1,1,1,1,0,0,0,0], [0,0,0,0,1,1,1,1]\n",
        "                                                       ]\n",
        "                                                       )\n",
        "                                                  }\n",
        "                     )\n",
        "  \n",
        "  Wnp=We.eval()\n",
        "\n",
        "W2np=W2.eval()\n",
        "Yhnp=Yh.eval()\n",
        "sess.close()  \n"
      ],
      "execution_count": 11,
      "outputs": [
        {
          "output_type": "stream",
          "text": [
            "/usr/local/lib/python3.6/dist-packages/tensorflow/python/client/session.py:1751: UserWarning: An interactive session is already active. This can cause out-of-memory errors in some cases. You must explicitly call `InteractiveSession.close()` to release resources held by the other session(s).\n",
            "  warnings.warn('An interactive session is already active. This can '\n"
          ],
          "name": "stderr"
        }
      ]
    },
    {
      "cell_type": "code",
      "metadata": {
        "id": "5bezKhxpOG6-",
        "outputId": "bfeab7a0-b2ad-4358-d2bd-d06ae751a079",
        "colab": {
          "base_uri": "https://localhost:8080/",
          "height": 773
        }
      },
      "source": [
        "plt.figure()\n",
        "plt.plot(errt)\n",
        "plt.title('Convergence')\n",
        "\n",
        "plt.figure()\n",
        "plt.suptitle('First Layer Weights')    \n",
        "for i in range(2):\n",
        "  for j in range(4):\n",
        "    ax=plt.subplot2grid((2, 4), (i, j))\n",
        "    ax.imshow(Wnp[i*4+j,:].reshape((21,21)))\n",
        "    plt.axis('off')\n",
        "\n",
        "\n",
        "plt.figure()\n",
        "plt.imshow(W2np)\n",
        "plt.axis('off')\n",
        "plt.title('Second Layer Weights')    \n",
        "\n",
        "plt.figure()\n",
        "plt.imshow(Yhnp)\n",
        "plt.axis('off') \n",
        "plt.title('Prediction')    \n",
        "\n"
      ],
      "execution_count": 14,
      "outputs": [
        {
          "output_type": "execute_result",
          "data": {
            "text/plain": [
              "Text(0.5, 1.0, 'Prediction')"
            ]
          },
          "metadata": {
            "tags": []
          },
          "execution_count": 14
        },
        {
          "output_type": "display_data",
          "data": {
            "image/png": "[encoded data removed]",
            "text/plain": [
              "<Figure size 432x288 with 1 Axes>"
            ]
          },
          "metadata": {
            "tags": [],
            "needs_background": "light"
          }
        },
        {
          "output_type": "display_data",
          "data": {
            "image/png": "[encoded data removed]",
            "text/plain": [
              "<Figure size 432x288 with 8 Axes>"
            ]
          },
          "metadata": {
            "tags": [],
            "needs_background": "light"
          }
        },
        {
          "output_type": "display_data",
          "data": {
            "image/png": "[encoded data removed]",
            "text/plain": [
              "<Figure size 432x288 with 1 Axes>"
            ]
          },
          "metadata": {
            "tags": [],
            "needs_background": "light"
          }
        },
        {
          "output_type": "display_data",
          "data": {
            "image/png": "[encoded data removed]",
            "text/plain": [
              "<Figure size 432x288 with 1 Axes>"
            ]
          },
          "metadata": {
            "tags": [],
            "needs_background": "light"
          }
        }
      ]
    },
    {
      "cell_type": "markdown",
      "metadata": {
        "id": "b9vcqcWlaQoi"
      },
      "source": [
        "## USING PYTORCH"
      ]
    },
    {
      "cell_type": "code",
      "metadata": {
        "id": "O53Y_bO4X3EI"
      },
      "source": [
        "import torch\n",
        "import numpy as np\n",
        "import time\n",
        "import matplotlib.pyplot as plt\n",
        "plt.style.use('default')\n",
        "\n",
        "device=torch.device('cuda:0')"
      ],
      "execution_count": 9,
      "outputs": []
    },
    {
      "cell_type": "code",
      "metadata": {
        "id": "Iam4gBIRamV6",
        "outputId": "ca95dc13-cd7c-4ecf-b3fe-bb4997ee2020",
        "colab": {
          "base_uri": "https://localhost:8080/",
          "height": 119
        }
      },
      "source": [
        "#Sparse coding: Adam, nonlinearity\n",
        "\n",
        "#Define learning rate\n",
        "lr=0.001\n",
        "\n",
        "#Define all the variables needed\n",
        "Y=torch.tensor([\n",
        "  [1,1,1,1,0,0,0,0], [0,0,0,0,1,1,1,1]              \n",
        "],\n",
        "dtype=torch.float,\n",
        "requires_grad=False,\n",
        "device=device)\n",
        "\n",
        "x=torch.tensor(X,dtype=torch.float,requires_grad=False, device=device)\n",
        "We=torch.randn((8,21*21),dtype=torch.float,requires_grad=True, device=device)\n",
        "be=torch.randn((8,1),dtype=torch.float,requires_grad=True, device=device)\n",
        "W2=torch.randn((2,8),dtype=torch.float,requires_grad=True, device=device)\n",
        "b2=torch.randn((2,1),dtype=torch.float,requires_grad=True, device=device)\n",
        "\n",
        "We.data*=0.001\n",
        "be.data*=0.001\n",
        "W2.data*=0.001\n",
        "b2.data*=0.001\n",
        "\n",
        "#Defining the number of iterations and error matrix\n",
        "maxitr=1000\n",
        "errt=np.zeros(maxitr,dtype=np.float32)\n",
        "\n",
        "\n",
        "#Defining non linearity and optimizer separately as these are essentials for pytorch syntax\n",
        "selu=torch.nn.SELU()\n",
        "\n",
        "optimizer=torch.optim.Adam([We,be,W2,b2],betas=(0.9,0.999), lr=lr)\n",
        "\n",
        "#Run loop for max iterations\n",
        "for i in range(maxitr):\n",
        "\n",
        "  #Define prediction calculation\n",
        "\n",
        "  Yh=W2@selu(We@x+be)+b2\n",
        "\n",
        "  #Define error calculation for prediction\n",
        "  err=torch.sum(-Y*torch.log(torch.exp(Yh)/torch.sum(torch.exp(Yh), dim=0, keepdim=True)))\n",
        "\n",
        "  #Pytorch syntax(Detatch error)\n",
        "  errt[i]=err.detach()\n",
        "    \n",
        "  #Start optimization syntax  \n",
        "  optimizer.zero_grad()   \n",
        "  err.backward()    \n",
        "  optimizer.step()\n",
        "\n",
        "    \n",
        "print(torch.exp(Yh)/torch.sum(torch.exp(Yh), dim=0, keepdim=True))    \n",
        "print(Y)    \n",
        "\n",
        "\n"
      ],
      "execution_count": 10,
      "outputs": [
        {
          "output_type": "stream",
          "text": [
            "tensor([[9.9904e-01, 9.9905e-01, 9.9905e-01, 9.9905e-01, 1.2426e-03, 1.2433e-03,\n",
            "         1.2427e-03, 1.2434e-03],\n",
            "        [9.5519e-04, 9.5454e-04, 9.5496e-04, 9.5429e-04, 9.9876e-01, 9.9876e-01,\n",
            "         9.9876e-01, 9.9876e-01]], device='cuda:0', grad_fn=<DivBackward0>)\n",
            "tensor([[1., 1., 1., 1., 0., 0., 0., 0.],\n",
            "        [0., 0., 0., 0., 1., 1., 1., 1.]], device='cuda:0')\n"
          ],
          "name": "stdout"
        }
      ]
    },
    {
      "cell_type": "code",
      "metadata": {
        "id": "f5aZ1sQEipQG",
        "outputId": "4d0ff766-8473-4a4c-d79b-528e69c3f2eb",
        "colab": {
          "base_uri": "https://localhost:8080/",
          "height": 469
        }
      },
      "source": [
        "plt.figure()\n",
        "plt.plot(errt)\n",
        "plt.title('Convergence')\n",
        "\n"
      ],
      "execution_count": 11,
      "outputs": [
        {
          "output_type": "execute_result",
          "data": {
            "text/plain": [
              "Text(0.5, 1.0, 'Convergence')"
            ]
          },
          "metadata": {
            "tags": []
          },
          "execution_count": 11
        },
        {
          "output_type": "display_data",
          "data": {
            "image/png": "[encoded data removed]",
            "text/plain": [
              "<Figure size 640x480 with 1 Axes>"
            ]
          },
          "metadata": {
            "tags": []
          }
        }
      ]
    },
    {
      "cell_type": "code",
      "metadata": {
        "id": "ipaiXOf_hNOM",
        "outputId": "068692a6-a978-48ce-daf8-1c7877da3bc6",
        "colab": {
          "base_uri": "https://localhost:8080/",
          "height": 424
        }
      },
      "source": [
        "plt.figure()\n",
        "plt.suptitle('First Layer Weights')    \n",
        "for i in range(2):\n",
        "  for j in range(4):\n",
        "    ax=plt.subplot2grid((2, 4), (i, j))\n",
        "    ax.imshow(We.detach().to(\"cpu\")[i*4+j,:].resize_((21,21)))\n",
        "    plt.axis('off')\n",
        "\n",
        "\n"
      ],
      "execution_count": 12,
      "outputs": [
        {
          "output_type": "display_data",
          "data": {
            "image/png": "[encoded data removed]",
            "text/plain": [
              "<Figure size 640x480 with 8 Axes>"
            ]
          },
          "metadata": {
            "tags": []
          }
        }
      ]
    },
    {
      "cell_type": "code",
      "metadata": {
        "id": "iNhqlzf3i9NE"
      },
      "source": [
        ""
      ],
      "execution_count": null,
      "outputs": []
    }
  ]
}